{
 "cells": [
  {
   "cell_type": "code",
   "execution_count": 1,
   "id": "8f175feb",
   "metadata": {},
   "outputs": [],
   "source": [
    "import pandas as pd\n",
    "import numpy as np\n",
    "import seaborn as sns\n",
    "import scipy.stats as stats\n",
    "import matplotlib.pyplot as plt\n",
    "%matplotlib inline"
   ]
  },
  {
   "cell_type": "code",
   "execution_count": 2,
   "id": "f8dbefbb",
   "metadata": {},
   "outputs": [],
   "source": [
    "airport= pd.read_csv('airports.csv')\n",
    "carrier= pd.read_csv('carriers.csv')\n",
    "planes_data= pd.read_csv('plane-data.csv')\n",
    "df_2005= pd.read_csv('2005.csv')\n",
    "df_2006= pd.read_csv('2006.csv')\n",
    "\n",
    "# Combining 2005 and 2006 data\n",
    "df= pd.concat([df_2005,df_2006],ignore_index=True)"
   ]
  },
  {
   "cell_type": "code",
   "execution_count": 3,
   "id": "f30c636c",
   "metadata": {},
   "outputs": [
    {
     "data": {
      "text/plain": [
       "(14282518, 29)"
      ]
     },
     "execution_count": 3,
     "metadata": {},
     "output_type": "execute_result"
    }
   ],
   "source": [
    "df.shape"
   ]
  },
  {
   "cell_type": "code",
   "execution_count": 4,
   "id": "3f2d5a4e",
   "metadata": {},
   "outputs": [
    {
     "data": {
      "text/plain": [
       "Year                        0\n",
       "Month                       0\n",
       "DayofMonth                  0\n",
       "DayOfWeek                   0\n",
       "DepTime                255664\n",
       "CRSDepTime                  0\n",
       "ArrTime                285878\n",
       "CRSArrTime                  0\n",
       "UniqueCarrier               0\n",
       "FlightNum                   0\n",
       "TailNum                     0\n",
       "ActualElapsedTime      285878\n",
       "CRSElapsedTime              4\n",
       "AirTime                285878\n",
       "ArrDelay               285878\n",
       "DepDelay               255664\n",
       "Origin                      0\n",
       "Dest                        0\n",
       "Distance                    0\n",
       "TaxiIn                      0\n",
       "TaxiOut                     0\n",
       "Cancelled                   0\n",
       "CancellationCode     14026853\n",
       "Diverted                    0\n",
       "CarrierDelay                0\n",
       "WeatherDelay                0\n",
       "NASDelay                    0\n",
       "SecurityDelay               0\n",
       "LateAircraftDelay           0\n",
       "dtype: int64"
      ]
     },
     "execution_count": 4,
     "metadata": {},
     "output_type": "execute_result"
    }
   ],
   "source": [
    "df.isna().sum()"
   ]
  },
  {
   "cell_type": "code",
   "execution_count": 5,
   "id": "29a68b8b",
   "metadata": {},
   "outputs": [
    {
     "name": "stdout",
     "output_type": "stream",
     "text": [
      "               Year         Month    DayofMonth     DayOfWeek       DepTime  \\\n",
      "count  1.428252e+07  1.428252e+07  1.428252e+07  1.428252e+07  1.402685e+07   \n",
      "mean   2.005500e+03  6.521967e+00  1.572497e+01  3.947242e+00  1.342461e+03   \n",
      "std    5.000000e-01  3.417978e+00  8.786326e+00  1.990941e+00  4.766457e+02   \n",
      "min    2.005000e+03  1.000000e+00  1.000000e+00  1.000000e+00  1.000000e+00   \n",
      "25%    2.005000e+03  4.000000e+00  8.000000e+00  2.000000e+00  9.320000e+02   \n",
      "50%    2.006000e+03  7.000000e+00  1.600000e+01  4.000000e+00  1.330000e+03   \n",
      "75%    2.006000e+03  9.000000e+00  2.300000e+01  6.000000e+00  1.734000e+03   \n",
      "max    2.006000e+03  1.200000e+01  3.100000e+01  7.000000e+00  2.930000e+03   \n",
      "\n",
      "         CRSDepTime       ArrTime    CRSArrTime     FlightNum  \\\n",
      "count  1.428252e+07  1.399664e+07  1.428252e+07  1.428252e+07   \n",
      "mean   1.335110e+03  1.489168e+03  1.497803e+03  2.114719e+03   \n",
      "std    4.634256e+02  5.004951e+02  4.795442e+02  1.918280e+03   \n",
      "min    0.000000e+00  1.000000e+00  0.000000e+00  1.000000e+00   \n",
      "25%    9.300000e+02  1.111000e+03  1.117000e+03  5.840000e+02   \n",
      "50%    1.325000e+03  1.517000e+03  1.520000e+03  1.469000e+03   \n",
      "75%    1.723000e+03  1.913000e+03  1.910000e+03  3.272000e+03   \n",
      "max    2.359000e+03  2.955000e+03  2.359000e+03  9.619000e+03   \n",
      "\n",
      "       ActualElapsedTime  ...      Distance        TaxiIn       TaxiOut  \\\n",
      "count       1.399664e+07  ...  1.428252e+07  1.428252e+07  1.428252e+07   \n",
      "mean        1.253956e+02  ...  7.258690e+02  7.315043e+00  1.558923e+01   \n",
      "std         7.106547e+01  ...  5.728452e+02  3.802523e+01  1.101478e+01   \n",
      "min        -6.600000e+01  ...  1.100000e+01  0.000000e+00  0.000000e+00   \n",
      "25%         7.400000e+01  ...  3.160000e+02  4.000000e+00  1.000000e+01   \n",
      "50%         1.060000e+02  ...  5.690000e+02  5.000000e+00  1.300000e+01   \n",
      "75%         1.560000e+02  ...  9.540000e+02  8.000000e+00  1.800000e+01   \n",
      "max         1.879000e+03  ...  4.962000e+03  1.523000e+03  1.339000e+03   \n",
      "\n",
      "          Cancelled      Diverted  CarrierDelay  WeatherDelay      NASDelay  \\\n",
      "count  1.428252e+07  1.428252e+07  1.428252e+07  1.428252e+07  1.428252e+07   \n",
      "mean   1.790049e-02  2.115453e-03  3.199518e+00  6.698842e-01  3.476762e+00   \n",
      "std    1.325898e-01  4.594538e-02  1.823506e+01  8.407486e+00  1.522981e+01   \n",
      "min    0.000000e+00  0.000000e+00  0.000000e+00  0.000000e+00 -4.900000e+01   \n",
      "25%    0.000000e+00  0.000000e+00  0.000000e+00  0.000000e+00  0.000000e+00   \n",
      "50%    0.000000e+00  0.000000e+00  0.000000e+00  0.000000e+00  0.000000e+00   \n",
      "75%    0.000000e+00  0.000000e+00  0.000000e+00  0.000000e+00  0.000000e+00   \n",
      "max    1.000000e+00  1.000000e+00  1.925000e+03  1.510000e+03  1.392000e+03   \n",
      "\n",
      "       SecurityDelay  LateAircraftDelay  \n",
      "count   1.428252e+07       1.428252e+07  \n",
      "mean    2.537480e-02       4.089155e+00  \n",
      "std     1.157816e+00       1.869710e+01  \n",
      "min     0.000000e+00       0.000000e+00  \n",
      "25%     0.000000e+00       0.000000e+00  \n",
      "50%     0.000000e+00       0.000000e+00  \n",
      "75%     0.000000e+00       0.000000e+00  \n",
      "max     3.540000e+02       1.366000e+03  \n",
      "\n",
      "[8 rows x 24 columns]\n"
     ]
    }
   ],
   "source": [
    "df_summary = df.describe()\n",
    "print(df_summary)"
   ]
  },
  {
   "cell_type": "code",
   "execution_count": 6,
   "id": "af98a1af",
   "metadata": {},
   "outputs": [
    {
     "data": {
      "text/html": [
       "<div>\n",
       "<style scoped>\n",
       "    .dataframe tbody tr th:only-of-type {\n",
       "        vertical-align: middle;\n",
       "    }\n",
       "\n",
       "    .dataframe tbody tr th {\n",
       "        vertical-align: top;\n",
       "    }\n",
       "\n",
       "    .dataframe thead th {\n",
       "        text-align: right;\n",
       "    }\n",
       "</style>\n",
       "<table border=\"1\" class=\"dataframe\">\n",
       "  <thead>\n",
       "    <tr style=\"text-align: right;\">\n",
       "      <th></th>\n",
       "      <th>unique</th>\n",
       "      <th>missing</th>\n",
       "      <th>dtypes</th>\n",
       "    </tr>\n",
       "  </thead>\n",
       "  <tbody>\n",
       "    <tr>\n",
       "      <th>Year</th>\n",
       "      <td>2</td>\n",
       "      <td>0.000000e+00</td>\n",
       "      <td>int64</td>\n",
       "    </tr>\n",
       "    <tr>\n",
       "      <th>Month</th>\n",
       "      <td>12</td>\n",
       "      <td>0.000000e+00</td>\n",
       "      <td>int64</td>\n",
       "    </tr>\n",
       "    <tr>\n",
       "      <th>DayofMonth</th>\n",
       "      <td>31</td>\n",
       "      <td>0.000000e+00</td>\n",
       "      <td>int64</td>\n",
       "    </tr>\n",
       "    <tr>\n",
       "      <th>DayOfWeek</th>\n",
       "      <td>7</td>\n",
       "      <td>0.000000e+00</td>\n",
       "      <td>int64</td>\n",
       "    </tr>\n",
       "    <tr>\n",
       "      <th>DepTime</th>\n",
       "      <td>1601</td>\n",
       "      <td>1.822675e-02</td>\n",
       "      <td>float64</td>\n",
       "    </tr>\n",
       "    <tr>\n",
       "      <th>CRSDepTime</th>\n",
       "      <td>1223</td>\n",
       "      <td>0.000000e+00</td>\n",
       "      <td>int64</td>\n",
       "    </tr>\n",
       "    <tr>\n",
       "      <th>ArrTime</th>\n",
       "      <td>1679</td>\n",
       "      <td>2.042476e-02</td>\n",
       "      <td>float64</td>\n",
       "    </tr>\n",
       "    <tr>\n",
       "      <th>CRSArrTime</th>\n",
       "      <td>1406</td>\n",
       "      <td>0.000000e+00</td>\n",
       "      <td>int64</td>\n",
       "    </tr>\n",
       "    <tr>\n",
       "      <th>UniqueCarrier</th>\n",
       "      <td>22</td>\n",
       "      <td>0.000000e+00</td>\n",
       "      <td>object</td>\n",
       "    </tr>\n",
       "    <tr>\n",
       "      <th>FlightNum</th>\n",
       "      <td>7555</td>\n",
       "      <td>0.000000e+00</td>\n",
       "      <td>int64</td>\n",
       "    </tr>\n",
       "    <tr>\n",
       "      <th>TailNum</th>\n",
       "      <td>5527</td>\n",
       "      <td>0.000000e+00</td>\n",
       "      <td>object</td>\n",
       "    </tr>\n",
       "    <tr>\n",
       "      <th>ActualElapsedTime</th>\n",
       "      <td>842</td>\n",
       "      <td>2.042476e-02</td>\n",
       "      <td>float64</td>\n",
       "    </tr>\n",
       "    <tr>\n",
       "      <th>CRSElapsedTime</th>\n",
       "      <td>599</td>\n",
       "      <td>2.800627e-07</td>\n",
       "      <td>float64</td>\n",
       "    </tr>\n",
       "    <tr>\n",
       "      <th>AirTime</th>\n",
       "      <td>949</td>\n",
       "      <td>2.042476e-02</td>\n",
       "      <td>float64</td>\n",
       "    </tr>\n",
       "    <tr>\n",
       "      <th>ArrDelay</th>\n",
       "      <td>1318</td>\n",
       "      <td>2.042476e-02</td>\n",
       "      <td>float64</td>\n",
       "    </tr>\n",
       "    <tr>\n",
       "      <th>DepDelay</th>\n",
       "      <td>1433</td>\n",
       "      <td>1.822675e-02</td>\n",
       "      <td>float64</td>\n",
       "    </tr>\n",
       "    <tr>\n",
       "      <th>Origin</th>\n",
       "      <td>295</td>\n",
       "      <td>0.000000e+00</td>\n",
       "      <td>object</td>\n",
       "    </tr>\n",
       "    <tr>\n",
       "      <th>Dest</th>\n",
       "      <td>301</td>\n",
       "      <td>0.000000e+00</td>\n",
       "      <td>object</td>\n",
       "    </tr>\n",
       "    <tr>\n",
       "      <th>Distance</th>\n",
       "      <td>1444</td>\n",
       "      <td>0.000000e+00</td>\n",
       "      <td>int64</td>\n",
       "    </tr>\n",
       "    <tr>\n",
       "      <th>TaxiIn</th>\n",
       "      <td>293</td>\n",
       "      <td>0.000000e+00</td>\n",
       "      <td>int64</td>\n",
       "    </tr>\n",
       "    <tr>\n",
       "      <th>TaxiOut</th>\n",
       "      <td>346</td>\n",
       "      <td>0.000000e+00</td>\n",
       "      <td>int64</td>\n",
       "    </tr>\n",
       "    <tr>\n",
       "      <th>Cancelled</th>\n",
       "      <td>2</td>\n",
       "      <td>0.000000e+00</td>\n",
       "      <td>int64</td>\n",
       "    </tr>\n",
       "    <tr>\n",
       "      <th>CancellationCode</th>\n",
       "      <td>4</td>\n",
       "      <td>5.486419e+01</td>\n",
       "      <td>object</td>\n",
       "    </tr>\n",
       "    <tr>\n",
       "      <th>Diverted</th>\n",
       "      <td>2</td>\n",
       "      <td>0.000000e+00</td>\n",
       "      <td>int64</td>\n",
       "    </tr>\n",
       "    <tr>\n",
       "      <th>CarrierDelay</th>\n",
       "      <td>1108</td>\n",
       "      <td>0.000000e+00</td>\n",
       "      <td>int64</td>\n",
       "    </tr>\n",
       "    <tr>\n",
       "      <th>WeatherDelay</th>\n",
       "      <td>642</td>\n",
       "      <td>0.000000e+00</td>\n",
       "      <td>int64</td>\n",
       "    </tr>\n",
       "    <tr>\n",
       "      <th>NASDelay</th>\n",
       "      <td>621</td>\n",
       "      <td>0.000000e+00</td>\n",
       "      <td>int64</td>\n",
       "    </tr>\n",
       "    <tr>\n",
       "      <th>SecurityDelay</th>\n",
       "      <td>231</td>\n",
       "      <td>0.000000e+00</td>\n",
       "      <td>int64</td>\n",
       "    </tr>\n",
       "    <tr>\n",
       "      <th>LateAircraftDelay</th>\n",
       "      <td>628</td>\n",
       "      <td>0.000000e+00</td>\n",
       "      <td>int64</td>\n",
       "    </tr>\n",
       "  </tbody>\n",
       "</table>\n",
       "</div>"
      ],
      "text/plain": [
       "                   unique       missing   dtypes\n",
       "Year                    2  0.000000e+00    int64\n",
       "Month                  12  0.000000e+00    int64\n",
       "DayofMonth             31  0.000000e+00    int64\n",
       "DayOfWeek               7  0.000000e+00    int64\n",
       "DepTime              1601  1.822675e-02  float64\n",
       "CRSDepTime           1223  0.000000e+00    int64\n",
       "ArrTime              1679  2.042476e-02  float64\n",
       "CRSArrTime           1406  0.000000e+00    int64\n",
       "UniqueCarrier          22  0.000000e+00   object\n",
       "FlightNum            7555  0.000000e+00    int64\n",
       "TailNum              5527  0.000000e+00   object\n",
       "ActualElapsedTime     842  2.042476e-02  float64\n",
       "CRSElapsedTime        599  2.800627e-07  float64\n",
       "AirTime               949  2.042476e-02  float64\n",
       "ArrDelay             1318  2.042476e-02  float64\n",
       "DepDelay             1433  1.822675e-02  float64\n",
       "Origin                295  0.000000e+00   object\n",
       "Dest                  301  0.000000e+00   object\n",
       "Distance             1444  0.000000e+00    int64\n",
       "TaxiIn                293  0.000000e+00    int64\n",
       "TaxiOut               346  0.000000e+00    int64\n",
       "Cancelled               2  0.000000e+00    int64\n",
       "CancellationCode        4  5.486419e+01   object\n",
       "Diverted                2  0.000000e+00    int64\n",
       "CarrierDelay         1108  0.000000e+00    int64\n",
       "WeatherDelay          642  0.000000e+00    int64\n",
       "NASDelay              621  0.000000e+00    int64\n",
       "SecurityDelay         231  0.000000e+00    int64\n",
       "LateAircraftDelay     628  0.000000e+00    int64"
      ]
     },
     "execution_count": 6,
     "metadata": {},
     "output_type": "execute_result"
    }
   ],
   "source": [
    "#Dataframe summary\n",
    "pd.DataFrame({'unique':df.nunique(),\n",
    "              'missing': df.isna().sum()/df.count(),\n",
    "              'dtypes':df.dtypes})"
   ]
  },
  {
   "cell_type": "code",
   "execution_count": 7,
   "id": "eeb3fb4d",
   "metadata": {},
   "outputs": [
    {
     "name": "stdout",
     "output_type": "stream",
     "text": [
      "<class 'pandas.core.frame.DataFrame'>\n",
      "RangeIndex: 14282518 entries, 0 to 14282517\n",
      "Data columns (total 29 columns):\n",
      " #   Column             Dtype  \n",
      "---  ------             -----  \n",
      " 0   Year               int64  \n",
      " 1   Month              int64  \n",
      " 2   DayofMonth         int64  \n",
      " 3   DayOfWeek          int64  \n",
      " 4   DepTime            float64\n",
      " 5   CRSDepTime         int64  \n",
      " 6   ArrTime            float64\n",
      " 7   CRSArrTime         int64  \n",
      " 8   UniqueCarrier      object \n",
      " 9   FlightNum          int64  \n",
      " 10  TailNum            object \n",
      " 11  ActualElapsedTime  float64\n",
      " 12  CRSElapsedTime     float64\n",
      " 13  AirTime            float64\n",
      " 14  ArrDelay           float64\n",
      " 15  DepDelay           float64\n",
      " 16  Origin             object \n",
      " 17  Dest               object \n",
      " 18  Distance           int64  \n",
      " 19  TaxiIn             int64  \n",
      " 20  TaxiOut            int64  \n",
      " 21  Cancelled          int64  \n",
      " 22  CancellationCode   object \n",
      " 23  Diverted           int64  \n",
      " 24  CarrierDelay       int64  \n",
      " 25  WeatherDelay       int64  \n",
      " 26  NASDelay           int64  \n",
      " 27  SecurityDelay      int64  \n",
      " 28  LateAircraftDelay  int64  \n",
      "dtypes: float64(7), int64(17), object(5)\n",
      "memory usage: 3.1+ GB\n"
     ]
    }
   ],
   "source": [
    "df.info()"
   ]
  },
  {
   "cell_type": "code",
   "execution_count": 3,
   "id": "70261419",
   "metadata": {},
   "outputs": [],
   "source": [
    "# Impute NA values using interpolation\n",
    "df['DepTime'] = df['DepTime'].interpolate(method='linear', limit_direction='both', axis=0) \n",
    "df['ArrTime'] = df['ArrTime'].interpolate(method='linear', limit_direction='both', axis=0) \n",
    "df['ActualElapsedTime'] = df['ActualElapsedTime'].interpolate(method='linear', limit_direction='both', axis=0) \n",
    "df['CRSElapsedTime'] = df['CRSElapsedTime'].interpolate(method='linear', limit_direction='both', axis=0) \n",
    "df['AirTime'] = df['AirTime'].interpolate(method='linear', limit_direction='both', axis=0) \n",
    "df['ArrDelay'] = df['ArrDelay'].interpolate(method='linear', limit_direction='both', axis=0) \n",
    "df['DepDelay'] = df['DepDelay'].interpolate(method='linear', limit_direction='both', axis=0) "
   ]
  },
  {
   "cell_type": "markdown",
   "id": "8bce86f0",
   "metadata": {},
   "source": [
    "# Exploratory Data Analysis"
   ]
  },
  {
   "cell_type": "markdown",
   "id": "624db6f5",
   "metadata": {},
   "source": [
    "#### Q1. When is the best time of day, day of the week, and time of year to fly to minimise delays?"
   ]
  },
  {
   "cell_type": "code",
   "execution_count": 4,
   "id": "fa80ba79",
   "metadata": {},
   "outputs": [
    {
     "data": {
      "text/html": [
       "<div>\n",
       "<style scoped>\n",
       "    .dataframe tbody tr th:only-of-type {\n",
       "        vertical-align: middle;\n",
       "    }\n",
       "\n",
       "    .dataframe tbody tr th {\n",
       "        vertical-align: top;\n",
       "    }\n",
       "\n",
       "    .dataframe thead th {\n",
       "        text-align: right;\n",
       "    }\n",
       "</style>\n",
       "<table border=\"1\" class=\"dataframe\">\n",
       "  <thead>\n",
       "    <tr style=\"text-align: right;\">\n",
       "      <th></th>\n",
       "      <th>Year</th>\n",
       "      <th>Month</th>\n",
       "      <th>DayofMonth</th>\n",
       "      <th>DayOfWeek</th>\n",
       "      <th>DepTime</th>\n",
       "      <th>CRSDepTime</th>\n",
       "      <th>ArrTime</th>\n",
       "      <th>CRSArrTime</th>\n",
       "      <th>UniqueCarrier</th>\n",
       "      <th>FlightNum</th>\n",
       "      <th>TailNum</th>\n",
       "      <th>ActualElapsedTime</th>\n",
       "      <th>CRSElapsedTime</th>\n",
       "      <th>AirTime</th>\n",
       "      <th>ArrDelay</th>\n",
       "      <th>DepDelay</th>\n",
       "      <th>Origin</th>\n",
       "      <th>Dest</th>\n",
       "      <th>Distance</th>\n",
       "      <th>TaxiIn</th>\n",
       "      <th>TaxiOut</th>\n",
       "      <th>Cancelled</th>\n",
       "      <th>CancellationCode</th>\n",
       "      <th>Diverted</th>\n",
       "      <th>CarrierDelay</th>\n",
       "      <th>WeatherDelay</th>\n",
       "      <th>NASDelay</th>\n",
       "      <th>SecurityDelay</th>\n",
       "      <th>LateAircraftDelay</th>\n",
       "    </tr>\n",
       "  </thead>\n",
       "  <tbody>\n",
       "    <tr>\n",
       "      <th>0</th>\n",
       "      <td>2005</td>\n",
       "      <td>1</td>\n",
       "      <td>28</td>\n",
       "      <td>5</td>\n",
       "      <td>1603.0</td>\n",
       "      <td>1605</td>\n",
       "      <td>1741.0</td>\n",
       "      <td>1759</td>\n",
       "      <td>UA</td>\n",
       "      <td>541</td>\n",
       "      <td>N935UA</td>\n",
       "      <td>158.0</td>\n",
       "      <td>174.0</td>\n",
       "      <td>131.0</td>\n",
       "      <td>-18.0</td>\n",
       "      <td>-2.0</td>\n",
       "      <td>BOS</td>\n",
       "      <td>ORD</td>\n",
       "      <td>867</td>\n",
       "      <td>4</td>\n",
       "      <td>23</td>\n",
       "      <td>0</td>\n",
       "      <td>NaN</td>\n",
       "      <td>0</td>\n",
       "      <td>0</td>\n",
       "      <td>0</td>\n",
       "      <td>0</td>\n",
       "      <td>0</td>\n",
       "      <td>0</td>\n",
       "    </tr>\n",
       "    <tr>\n",
       "      <th>1</th>\n",
       "      <td>2005</td>\n",
       "      <td>1</td>\n",
       "      <td>29</td>\n",
       "      <td>6</td>\n",
       "      <td>1559.0</td>\n",
       "      <td>1605</td>\n",
       "      <td>1736.0</td>\n",
       "      <td>1759</td>\n",
       "      <td>UA</td>\n",
       "      <td>541</td>\n",
       "      <td>N941UA</td>\n",
       "      <td>157.0</td>\n",
       "      <td>174.0</td>\n",
       "      <td>136.0</td>\n",
       "      <td>-23.0</td>\n",
       "      <td>-6.0</td>\n",
       "      <td>BOS</td>\n",
       "      <td>ORD</td>\n",
       "      <td>867</td>\n",
       "      <td>6</td>\n",
       "      <td>15</td>\n",
       "      <td>0</td>\n",
       "      <td>NaN</td>\n",
       "      <td>0</td>\n",
       "      <td>0</td>\n",
       "      <td>0</td>\n",
       "      <td>0</td>\n",
       "      <td>0</td>\n",
       "      <td>0</td>\n",
       "    </tr>\n",
       "    <tr>\n",
       "      <th>2</th>\n",
       "      <td>2005</td>\n",
       "      <td>1</td>\n",
       "      <td>30</td>\n",
       "      <td>7</td>\n",
       "      <td>1603.0</td>\n",
       "      <td>1610</td>\n",
       "      <td>1741.0</td>\n",
       "      <td>1805</td>\n",
       "      <td>UA</td>\n",
       "      <td>541</td>\n",
       "      <td>N342UA</td>\n",
       "      <td>158.0</td>\n",
       "      <td>175.0</td>\n",
       "      <td>131.0</td>\n",
       "      <td>-24.0</td>\n",
       "      <td>-7.0</td>\n",
       "      <td>BOS</td>\n",
       "      <td>ORD</td>\n",
       "      <td>867</td>\n",
       "      <td>9</td>\n",
       "      <td>18</td>\n",
       "      <td>0</td>\n",
       "      <td>NaN</td>\n",
       "      <td>0</td>\n",
       "      <td>0</td>\n",
       "      <td>0</td>\n",
       "      <td>0</td>\n",
       "      <td>0</td>\n",
       "      <td>0</td>\n",
       "    </tr>\n",
       "    <tr>\n",
       "      <th>3</th>\n",
       "      <td>2005</td>\n",
       "      <td>1</td>\n",
       "      <td>31</td>\n",
       "      <td>1</td>\n",
       "      <td>1556.0</td>\n",
       "      <td>1605</td>\n",
       "      <td>1726.0</td>\n",
       "      <td>1759</td>\n",
       "      <td>UA</td>\n",
       "      <td>541</td>\n",
       "      <td>N326UA</td>\n",
       "      <td>150.0</td>\n",
       "      <td>174.0</td>\n",
       "      <td>129.0</td>\n",
       "      <td>-33.0</td>\n",
       "      <td>-9.0</td>\n",
       "      <td>BOS</td>\n",
       "      <td>ORD</td>\n",
       "      <td>867</td>\n",
       "      <td>11</td>\n",
       "      <td>10</td>\n",
       "      <td>0</td>\n",
       "      <td>NaN</td>\n",
       "      <td>0</td>\n",
       "      <td>0</td>\n",
       "      <td>0</td>\n",
       "      <td>0</td>\n",
       "      <td>0</td>\n",
       "      <td>0</td>\n",
       "    </tr>\n",
       "    <tr>\n",
       "      <th>4</th>\n",
       "      <td>2005</td>\n",
       "      <td>1</td>\n",
       "      <td>2</td>\n",
       "      <td>7</td>\n",
       "      <td>1934.0</td>\n",
       "      <td>1900</td>\n",
       "      <td>2235.0</td>\n",
       "      <td>2232</td>\n",
       "      <td>UA</td>\n",
       "      <td>542</td>\n",
       "      <td>N902UA</td>\n",
       "      <td>121.0</td>\n",
       "      <td>152.0</td>\n",
       "      <td>106.0</td>\n",
       "      <td>3.0</td>\n",
       "      <td>34.0</td>\n",
       "      <td>ORD</td>\n",
       "      <td>BOS</td>\n",
       "      <td>867</td>\n",
       "      <td>5</td>\n",
       "      <td>10</td>\n",
       "      <td>0</td>\n",
       "      <td>NaN</td>\n",
       "      <td>0</td>\n",
       "      <td>0</td>\n",
       "      <td>0</td>\n",
       "      <td>0</td>\n",
       "      <td>0</td>\n",
       "      <td>0</td>\n",
       "    </tr>\n",
       "    <tr>\n",
       "      <th>5</th>\n",
       "      <td>2005</td>\n",
       "      <td>1</td>\n",
       "      <td>3</td>\n",
       "      <td>1</td>\n",
       "      <td>2042.0</td>\n",
       "      <td>1900</td>\n",
       "      <td>9.0</td>\n",
       "      <td>2232</td>\n",
       "      <td>UA</td>\n",
       "      <td>542</td>\n",
       "      <td>N904UA</td>\n",
       "      <td>147.0</td>\n",
       "      <td>152.0</td>\n",
       "      <td>97.0</td>\n",
       "      <td>97.0</td>\n",
       "      <td>102.0</td>\n",
       "      <td>ORD</td>\n",
       "      <td>BOS</td>\n",
       "      <td>867</td>\n",
       "      <td>3</td>\n",
       "      <td>47</td>\n",
       "      <td>0</td>\n",
       "      <td>NaN</td>\n",
       "      <td>0</td>\n",
       "      <td>23</td>\n",
       "      <td>0</td>\n",
       "      <td>0</td>\n",
       "      <td>0</td>\n",
       "      <td>74</td>\n",
       "    </tr>\n",
       "    <tr>\n",
       "      <th>6</th>\n",
       "      <td>2005</td>\n",
       "      <td>1</td>\n",
       "      <td>4</td>\n",
       "      <td>2</td>\n",
       "      <td>2046.0</td>\n",
       "      <td>1900</td>\n",
       "      <td>2357.0</td>\n",
       "      <td>2232</td>\n",
       "      <td>UA</td>\n",
       "      <td>542</td>\n",
       "      <td>N942UA</td>\n",
       "      <td>131.0</td>\n",
       "      <td>152.0</td>\n",
       "      <td>100.0</td>\n",
       "      <td>85.0</td>\n",
       "      <td>106.0</td>\n",
       "      <td>ORD</td>\n",
       "      <td>BOS</td>\n",
       "      <td>867</td>\n",
       "      <td>5</td>\n",
       "      <td>26</td>\n",
       "      <td>0</td>\n",
       "      <td>NaN</td>\n",
       "      <td>0</td>\n",
       "      <td>46</td>\n",
       "      <td>0</td>\n",
       "      <td>0</td>\n",
       "      <td>0</td>\n",
       "      <td>39</td>\n",
       "    </tr>\n",
       "    <tr>\n",
       "      <th>7</th>\n",
       "      <td>2005</td>\n",
       "      <td>1</td>\n",
       "      <td>5</td>\n",
       "      <td>3</td>\n",
       "      <td>2078.0</td>\n",
       "      <td>1900</td>\n",
       "      <td>1182.5</td>\n",
       "      <td>2232</td>\n",
       "      <td>UA</td>\n",
       "      <td>542</td>\n",
       "      <td>000000</td>\n",
       "      <td>124.5</td>\n",
       "      <td>152.0</td>\n",
       "      <td>100.5</td>\n",
       "      <td>95.0</td>\n",
       "      <td>118.0</td>\n",
       "      <td>ORD</td>\n",
       "      <td>BOS</td>\n",
       "      <td>867</td>\n",
       "      <td>0</td>\n",
       "      <td>0</td>\n",
       "      <td>1</td>\n",
       "      <td>B</td>\n",
       "      <td>0</td>\n",
       "      <td>0</td>\n",
       "      <td>0</td>\n",
       "      <td>0</td>\n",
       "      <td>0</td>\n",
       "      <td>0</td>\n",
       "    </tr>\n",
       "    <tr>\n",
       "      <th>8</th>\n",
       "      <td>2005</td>\n",
       "      <td>1</td>\n",
       "      <td>6</td>\n",
       "      <td>4</td>\n",
       "      <td>2110.0</td>\n",
       "      <td>1900</td>\n",
       "      <td>8.0</td>\n",
       "      <td>2223</td>\n",
       "      <td>UA</td>\n",
       "      <td>542</td>\n",
       "      <td>N920UA</td>\n",
       "      <td>118.0</td>\n",
       "      <td>143.0</td>\n",
       "      <td>101.0</td>\n",
       "      <td>105.0</td>\n",
       "      <td>130.0</td>\n",
       "      <td>ORD</td>\n",
       "      <td>BOS</td>\n",
       "      <td>867</td>\n",
       "      <td>2</td>\n",
       "      <td>15</td>\n",
       "      <td>0</td>\n",
       "      <td>NaN</td>\n",
       "      <td>0</td>\n",
       "      <td>16</td>\n",
       "      <td>0</td>\n",
       "      <td>0</td>\n",
       "      <td>0</td>\n",
       "      <td>89</td>\n",
       "    </tr>\n",
       "    <tr>\n",
       "      <th>9</th>\n",
       "      <td>2005</td>\n",
       "      <td>1</td>\n",
       "      <td>7</td>\n",
       "      <td>5</td>\n",
       "      <td>1859.0</td>\n",
       "      <td>1900</td>\n",
       "      <td>2235.0</td>\n",
       "      <td>2223</td>\n",
       "      <td>UA</td>\n",
       "      <td>542</td>\n",
       "      <td>N340UA</td>\n",
       "      <td>156.0</td>\n",
       "      <td>143.0</td>\n",
       "      <td>96.0</td>\n",
       "      <td>12.0</td>\n",
       "      <td>-1.0</td>\n",
       "      <td>ORD</td>\n",
       "      <td>BOS</td>\n",
       "      <td>867</td>\n",
       "      <td>4</td>\n",
       "      <td>56</td>\n",
       "      <td>0</td>\n",
       "      <td>NaN</td>\n",
       "      <td>0</td>\n",
       "      <td>0</td>\n",
       "      <td>0</td>\n",
       "      <td>0</td>\n",
       "      <td>0</td>\n",
       "      <td>0</td>\n",
       "    </tr>\n",
       "  </tbody>\n",
       "</table>\n",
       "</div>"
      ],
      "text/plain": [
       "   Year  Month  DayofMonth  DayOfWeek  DepTime  CRSDepTime  ArrTime  \\\n",
       "0  2005      1          28          5   1603.0        1605   1741.0   \n",
       "1  2005      1          29          6   1559.0        1605   1736.0   \n",
       "2  2005      1          30          7   1603.0        1610   1741.0   \n",
       "3  2005      1          31          1   1556.0        1605   1726.0   \n",
       "4  2005      1           2          7   1934.0        1900   2235.0   \n",
       "5  2005      1           3          1   2042.0        1900      9.0   \n",
       "6  2005      1           4          2   2046.0        1900   2357.0   \n",
       "7  2005      1           5          3   2078.0        1900   1182.5   \n",
       "8  2005      1           6          4   2110.0        1900      8.0   \n",
       "9  2005      1           7          5   1859.0        1900   2235.0   \n",
       "\n",
       "   CRSArrTime UniqueCarrier  FlightNum TailNum  ActualElapsedTime  \\\n",
       "0        1759            UA        541  N935UA              158.0   \n",
       "1        1759            UA        541  N941UA              157.0   \n",
       "2        1805            UA        541  N342UA              158.0   \n",
       "3        1759            UA        541  N326UA              150.0   \n",
       "4        2232            UA        542  N902UA              121.0   \n",
       "5        2232            UA        542  N904UA              147.0   \n",
       "6        2232            UA        542  N942UA              131.0   \n",
       "7        2232            UA        542  000000              124.5   \n",
       "8        2223            UA        542  N920UA              118.0   \n",
       "9        2223            UA        542  N340UA              156.0   \n",
       "\n",
       "   CRSElapsedTime  AirTime  ArrDelay  DepDelay Origin Dest  Distance  TaxiIn  \\\n",
       "0           174.0    131.0     -18.0      -2.0    BOS  ORD       867       4   \n",
       "1           174.0    136.0     -23.0      -6.0    BOS  ORD       867       6   \n",
       "2           175.0    131.0     -24.0      -7.0    BOS  ORD       867       9   \n",
       "3           174.0    129.0     -33.0      -9.0    BOS  ORD       867      11   \n",
       "4           152.0    106.0       3.0      34.0    ORD  BOS       867       5   \n",
       "5           152.0     97.0      97.0     102.0    ORD  BOS       867       3   \n",
       "6           152.0    100.0      85.0     106.0    ORD  BOS       867       5   \n",
       "7           152.0    100.5      95.0     118.0    ORD  BOS       867       0   \n",
       "8           143.0    101.0     105.0     130.0    ORD  BOS       867       2   \n",
       "9           143.0     96.0      12.0      -1.0    ORD  BOS       867       4   \n",
       "\n",
       "   TaxiOut  Cancelled CancellationCode  Diverted  CarrierDelay  WeatherDelay  \\\n",
       "0       23          0              NaN         0             0             0   \n",
       "1       15          0              NaN         0             0             0   \n",
       "2       18          0              NaN         0             0             0   \n",
       "3       10          0              NaN         0             0             0   \n",
       "4       10          0              NaN         0             0             0   \n",
       "5       47          0              NaN         0            23             0   \n",
       "6       26          0              NaN         0            46             0   \n",
       "7        0          1                B         0             0             0   \n",
       "8       15          0              NaN         0            16             0   \n",
       "9       56          0              NaN         0             0             0   \n",
       "\n",
       "   NASDelay  SecurityDelay  LateAircraftDelay  \n",
       "0         0              0                  0  \n",
       "1         0              0                  0  \n",
       "2         0              0                  0  \n",
       "3         0              0                  0  \n",
       "4         0              0                  0  \n",
       "5         0              0                 74  \n",
       "6         0              0                 39  \n",
       "7         0              0                  0  \n",
       "8         0              0                 89  \n",
       "9         0              0                  0  "
      ]
     },
     "execution_count": 4,
     "metadata": {},
     "output_type": "execute_result"
    }
   ],
   "source": [
    "pd.set_option(\"display.max_columns\",30)\n",
    "df1=df.copy(deep=True) # Make a copy of dataset for Q1\n",
    "df1.head(10)"
   ]
  },
  {
   "cell_type": "markdown",
   "id": "ef1ed71f",
   "metadata": {},
   "source": [
    "##### Only when Arrival Delay is longer than 15 minutes there’s data about what caused the delay. Arrival Delay is the sum of CarrierDelay, WeatherDelay, NASDelay and LateAircraftDelay. \n",
    "#### More often than not, airports and carriers allocate a CRSElapsedTime higher than the actual time spent in the Taxi In + Taxi out + Airtime operations (Actual Elapsed Time). \n",
    "#### This is the reason why, when planes take off on time, landing usually takes place before the expected time! It also allows to absorb delay by late aircraft down the lane of chained flights."
   ]
  },
  {
   "cell_type": "code",
   "execution_count": 10,
   "id": "05a89b30",
   "metadata": {},
   "outputs": [],
   "source": [
    "# Define numbers by actual days and months.\n",
    "df.loc[df['DayOfWeek'] == 1, ['DayOfWeek']] = 'Monday'\n",
    "df.loc[df['DayOfWeek'] == 2, ['DayOfWeek']] = 'Tuesday'\n",
    "df.loc[df['DayOfWeek'] == 3, ['DayOfWeek']] = 'Wednesday'\n",
    "df.loc[df['DayOfWeek'] == 4, ['DayOfWeek']] = 'Thursday'\n",
    "df.loc[df['DayOfWeek'] == 5, ['DayOfWeek']] = 'Friday'\n",
    "df.loc[df['DayOfWeek'] == 6, ['DayOfWeek']] = 'Saturday'\n",
    "df.loc[df['DayOfWeek'] == 7, ['DayOfWeek']] = 'Sunday'"
   ]
  },
  {
   "cell_type": "code",
   "execution_count": 11,
   "id": "cc3905d3",
   "metadata": {},
   "outputs": [],
   "source": [
    "df.loc[df['Month'] == 1,['Month']] = 'January'\n",
    "df.loc[df['Month'] == 2,['Month']] = 'Febrary'\n",
    "df.loc[df['Month'] == 3,['Month']] = 'March'\n",
    "df.loc[df['Month'] == 4,['Month']] = 'April'\n",
    "df.loc[df['Month'] == 5,['Month']] = 'May'\n",
    "df.loc[df['Month'] == 6,['Month']] = 'June'\n",
    "df.loc[df['Month'] == 7,['Month']] = 'July'\n",
    "df.loc[df['Month'] == 8,['Month']] = 'August'\n",
    "df.loc[df['Month'] == 9,['Month']] = 'September'\n",
    "df.loc[df['Month'] == 10,['Month']] = 'October'\n",
    "df.loc[df['Month'] == 11,['Month']] = 'November'\n",
    "df.loc[df['Month'] == 12,['Month']] = 'December'"
   ]
  },
  {
   "cell_type": "code",
   "execution_count": 12,
   "id": "f179ec67",
   "metadata": {},
   "outputs": [
    {
     "data": {
      "text/plain": [
       "<AxesSubplot:xlabel='Month', ylabel='count'>"
      ]
     },
     "execution_count": 12,
     "metadata": {},
     "output_type": "execute_result"
    },
    {
     "data": {
      "image/png": "[encoded data removed]",
      "text/plain": [
       "<Figure size 1152x432 with 1 Axes>"
      ]
     },
     "metadata": {
      "needs_background": "light"
     },
     "output_type": "display_data"
    }
   ],
   "source": [
    "plt.figure(figsize = (16,6))\n",
    "sns.countplot(x='Month',data=df,hue='UniqueCarrier')"
   ]
  },
  {
   "cell_type": "code",
   "execution_count": 13,
   "id": "9501e418",
   "metadata": {},
   "outputs": [
    {
     "data": {
      "text/plain": [
       "<Figure size 1152x432 with 0 Axes>"
      ]
     },
     "metadata": {},
     "output_type": "display_data"
    },
    {
     "data": {
      "image/png": "[encoded data removed]",
      "text/plain": [
       "<Figure size 432x288 with 1 Axes>"
      ]
     },
     "metadata": {
      "needs_background": "light"
     },
     "output_type": "display_data"
    }
   ],
   "source": [
    "plt.figure(figsize = (16,6))\n",
    "df[['DayofMonth','CancellationCode']].groupby(['DayofMonth']).count().plot()\n",
    "plt.show()"
   ]
  },
  {
   "cell_type": "code",
   "execution_count": 14,
   "id": "3526eb91",
   "metadata": {},
   "outputs": [
    {
     "data": {
      "text/plain": [
       "[Text(0.0, 0, 'Monday'),\n",
       " Text(1.0, 0, 'Tuesday'),\n",
       " Text(2.0, 0, 'Wednesday'),\n",
       " Text(3.0, 0, 'Thursday'),\n",
       " Text(4.0, 0, 'Friday'),\n",
       " Text(5.0, 0, 'Saturday'),\n",
       " Text(6.0, 0, 'Sunday')]"
      ]
     },
     "execution_count": 14,
     "metadata": {},
     "output_type": "execute_result"
    },
    {
     "data": {
      "image/png": "[encoded data removed]",
      "text/plain": [
       "<Figure size 1152x432 with 1 Axes>"
      ]
     },
     "metadata": {
      "needs_background": "light"
     },
     "output_type": "display_data"
    }
   ],
   "source": [
    "font = {'size'   : 16}\n",
    "plt.rc('font', **font)\n",
    "cancelled = df[df['Cancelled']==1]\n",
    "days_cancelled = cancelled['Cancelled'].groupby(df['DayOfWeek']).count()\n",
    "days_total = df['Cancelled'].groupby(df['DayOfWeek']).count()\n",
    "days_frac = np.divide(days_cancelled, days_total)\n",
    "x=days_frac.index.values\n",
    "week = ['Monday', 'Tuesday', 'Wednesday', 'Thursday', 'Friday', 'Saturday', 'Sunday']\n",
    "fig, ax = plt.subplots(figsize = (16,6))\n",
    "ax.bar(x,days_frac*100, align='center')\n",
    "ax.set_ylabel('Percentage of Flights Cancelled')\n",
    "ax.set_xticks(x)\n",
    "ax.set_xticklabels(week, rotation = 45)"
   ]
  },
  {
   "cell_type": "code",
   "execution_count": 15,
   "id": "6a4f09c9",
   "metadata": {},
   "outputs": [
    {
     "data": {
      "text/plain": [
       "<matplotlib.legend.Legend at 0x225914d1be0>"
      ]
     },
     "execution_count": 15,
     "metadata": {},
     "output_type": "execute_result"
    },
    {
     "data": {
      "image/png": "[encoded data removed]",
      "text/plain": [
       "<Figure size 1296x576 with 1 Axes>"
      ]
     },
     "metadata": {
      "needs_background": "light"
     },
     "output_type": "display_data"
    }
   ],
   "source": [
    "ax=df1.groupby('DayOfWeek')[['DepDelay','ArrDelay']].mean().plot.bar(rot=0, alpha=0.8, figsize=[18,8])\n",
    "ax.set_ylabel(\"Departure & Arrival Delays (Minutes)\",fontsize=12)\n",
    "ax.set_xlabel(\"Day of Week\",fontsize=12)\n",
    "ax.set_xticklabels(['Mon','Tue','Wed','Thu','Fri','Sat','Sun'])\n",
    "ax.legend(['Departure Delay','Arrival Delay'], fontsize=10 )"
   ]
  },
  {
   "cell_type": "code",
   "execution_count": 16,
   "id": "52e5cc65",
   "metadata": {},
   "outputs": [
    {
     "data": {
      "text/plain": [
       "<matplotlib.legend.Legend at 0x225914460a0>"
      ]
     },
     "execution_count": 16,
     "metadata": {},
     "output_type": "execute_result"
    },
    {
     "data": {
      "image/png": "[encoded data removed]",
      "text/plain": [
       "<Figure size 1296x576 with 1 Axes>"
      ]
     },
     "metadata": {
      "needs_background": "light"
     },
     "output_type": "display_data"
    }
   ],
   "source": [
    "ax=df1.groupby('Month')[['DepDelay','ArrDelay']].mean().plot.bar(rot=0, alpha=0.8, figsize=[18,8])\n",
    "ax.set_ylabel(\"Departure & Arrival Delays (Month)\",fontsize=12)\n",
    "ax.set_xlabel(\"Month\",fontsize=12)\n",
    "#ax.set_xticklabels(df['Month'])\n",
    "ax.legend(['Departure Delay','Arrival Delay'], fontsize=10 )"
   ]
  },
  {
   "cell_type": "code",
   "execution_count": 17,
   "id": "0ea629a5",
   "metadata": {},
   "outputs": [
    {
     "data": {
      "text/plain": [
       "<matplotlib.legend.Legend at 0x22591484130>"
      ]
     },
     "execution_count": 17,
     "metadata": {},
     "output_type": "execute_result"
    },
    {
     "data": {
      "image/png": "[encoded data removed]",
      "text/plain": [
       "<Figure size 1296x576 with 1 Axes>"
      ]
     },
     "metadata": {
      "needs_background": "light"
     },
     "output_type": "display_data"
    }
   ],
   "source": [
    "ax=df1.groupby('DayofMonth')[['DepDelay','ArrDelay']].mean().plot.bar(rot=0, alpha=0.8, figsize=[18,8])\n",
    "ax.set_ylabel(\"Departure & Arrival Delays (Day of Month)\",fontsize=12)\n",
    "ax.set_xlabel(\"DayofMonth\",fontsize=12)\n",
    "#ax.set_xticklabels(df['Month'])\n",
    "ax.legend(['Departure Delay','Arrival Delay'], fontsize=10 )"
   ]
  },
  {
   "cell_type": "markdown",
   "id": "3b8f06c9",
   "metadata": {},
   "source": [
    "#### Q1 - Answer : Best time to avoid delay is in the month of April, 4th Day Of Month and on Saturday"
   ]
  },
  {
   "cell_type": "code",
   "execution_count": null,
   "id": "64e5ec44",
   "metadata": {},
   "outputs": [],
   "source": []
  },
  {
   "cell_type": "markdown",
   "id": "40c18a7a",
   "metadata": {},
   "source": [
    " ### Q2 - Do older planes suffer more delays?"
   ]
  },
  {
   "cell_type": "code",
   "execution_count": 18,
   "id": "baf0b910",
   "metadata": {},
   "outputs": [
    {
     "data": {
      "text/html": [
       "<div>\n",
       "<style scoped>\n",
       "    .dataframe tbody tr th:only-of-type {\n",
       "        vertical-align: middle;\n",
       "    }\n",
       "\n",
       "    .dataframe tbody tr th {\n",
       "        vertical-align: top;\n",
       "    }\n",
       "\n",
       "    .dataframe thead th {\n",
       "        text-align: right;\n",
       "    }\n",
       "</style>\n",
       "<table border=\"1\" class=\"dataframe\">\n",
       "  <thead>\n",
       "    <tr style=\"text-align: right;\">\n",
       "      <th></th>\n",
       "      <th>tailnum</th>\n",
       "      <th>type</th>\n",
       "      <th>manufacturer</th>\n",
       "      <th>issue_date</th>\n",
       "      <th>model</th>\n",
       "      <th>status</th>\n",
       "      <th>aircraft_type</th>\n",
       "      <th>engine_type</th>\n",
       "      <th>year</th>\n",
       "    </tr>\n",
       "  </thead>\n",
       "  <tbody>\n",
       "    <tr>\n",
       "      <th>0</th>\n",
       "      <td>N050AA</td>\n",
       "      <td>NaN</td>\n",
       "      <td>NaN</td>\n",
       "      <td>NaN</td>\n",
       "      <td>NaN</td>\n",
       "      <td>NaN</td>\n",
       "      <td>NaN</td>\n",
       "      <td>NaN</td>\n",
       "      <td>NaN</td>\n",
       "    </tr>\n",
       "    <tr>\n",
       "      <th>1</th>\n",
       "      <td>N051AA</td>\n",
       "      <td>NaN</td>\n",
       "      <td>NaN</td>\n",
       "      <td>NaN</td>\n",
       "      <td>NaN</td>\n",
       "      <td>NaN</td>\n",
       "      <td>NaN</td>\n",
       "      <td>NaN</td>\n",
       "      <td>NaN</td>\n",
       "    </tr>\n",
       "    <tr>\n",
       "      <th>2</th>\n",
       "      <td>N052AA</td>\n",
       "      <td>NaN</td>\n",
       "      <td>NaN</td>\n",
       "      <td>NaN</td>\n",
       "      <td>NaN</td>\n",
       "      <td>NaN</td>\n",
       "      <td>NaN</td>\n",
       "      <td>NaN</td>\n",
       "      <td>NaN</td>\n",
       "    </tr>\n",
       "    <tr>\n",
       "      <th>3</th>\n",
       "      <td>N054AA</td>\n",
       "      <td>NaN</td>\n",
       "      <td>NaN</td>\n",
       "      <td>NaN</td>\n",
       "      <td>NaN</td>\n",
       "      <td>NaN</td>\n",
       "      <td>NaN</td>\n",
       "      <td>NaN</td>\n",
       "      <td>NaN</td>\n",
       "    </tr>\n",
       "    <tr>\n",
       "      <th>4</th>\n",
       "      <td>N055AA</td>\n",
       "      <td>NaN</td>\n",
       "      <td>NaN</td>\n",
       "      <td>NaN</td>\n",
       "      <td>NaN</td>\n",
       "      <td>NaN</td>\n",
       "      <td>NaN</td>\n",
       "      <td>NaN</td>\n",
       "      <td>NaN</td>\n",
       "    </tr>\n",
       "    <tr>\n",
       "      <th>...</th>\n",
       "      <td>...</td>\n",
       "      <td>...</td>\n",
       "      <td>...</td>\n",
       "      <td>...</td>\n",
       "      <td>...</td>\n",
       "      <td>...</td>\n",
       "      <td>...</td>\n",
       "      <td>...</td>\n",
       "      <td>...</td>\n",
       "    </tr>\n",
       "    <tr>\n",
       "      <th>195</th>\n",
       "      <td>N13908</td>\n",
       "      <td>Corporation</td>\n",
       "      <td>EMBRAER</td>\n",
       "      <td>05/31/2002</td>\n",
       "      <td>EMB-145LR</td>\n",
       "      <td>Valid</td>\n",
       "      <td>Fixed Wing Multi-Engine</td>\n",
       "      <td>Turbo-Fan</td>\n",
       "      <td>2001</td>\n",
       "    </tr>\n",
       "    <tr>\n",
       "      <th>196</th>\n",
       "      <td>N13913</td>\n",
       "      <td>Corporation</td>\n",
       "      <td>EMBRAER</td>\n",
       "      <td>05/25/2001</td>\n",
       "      <td>EMB-145LR</td>\n",
       "      <td>Valid</td>\n",
       "      <td>Fixed Wing Multi-Engine</td>\n",
       "      <td>Turbo-Fan</td>\n",
       "      <td>2001</td>\n",
       "    </tr>\n",
       "    <tr>\n",
       "      <th>197</th>\n",
       "      <td>N13914</td>\n",
       "      <td>Corporation</td>\n",
       "      <td>EMBRAER</td>\n",
       "      <td>05/09/2001</td>\n",
       "      <td>EMB-145LR</td>\n",
       "      <td>Valid</td>\n",
       "      <td>Fixed Wing Multi-Engine</td>\n",
       "      <td>Turbo-Fan</td>\n",
       "      <td>2001</td>\n",
       "    </tr>\n",
       "    <tr>\n",
       "      <th>198</th>\n",
       "      <td>N13929</td>\n",
       "      <td>Corporation</td>\n",
       "      <td>EMBRAER</td>\n",
       "      <td>11/29/1997</td>\n",
       "      <td>EMB-145EP</td>\n",
       "      <td>Valid</td>\n",
       "      <td>Fixed Wing Multi-Engine</td>\n",
       "      <td>Turbo-Jet</td>\n",
       "      <td>1997</td>\n",
       "    </tr>\n",
       "    <tr>\n",
       "      <th>199</th>\n",
       "      <td>N13935</td>\n",
       "      <td>Corporation</td>\n",
       "      <td>EMBRAER</td>\n",
       "      <td>02/23/1998</td>\n",
       "      <td>EMB-145EP</td>\n",
       "      <td>Valid</td>\n",
       "      <td>Fixed Wing Multi-Engine</td>\n",
       "      <td>Turbo-Jet</td>\n",
       "      <td>1997</td>\n",
       "    </tr>\n",
       "  </tbody>\n",
       "</table>\n",
       "<p>200 rows × 9 columns</p>\n",
       "</div>"
      ],
      "text/plain": [
       "    tailnum         type manufacturer  issue_date      model status  \\\n",
       "0    N050AA          NaN          NaN         NaN        NaN    NaN   \n",
       "1    N051AA          NaN          NaN         NaN        NaN    NaN   \n",
       "2    N052AA          NaN          NaN         NaN        NaN    NaN   \n",
       "3    N054AA          NaN          NaN         NaN        NaN    NaN   \n",
       "4    N055AA          NaN          NaN         NaN        NaN    NaN   \n",
       "..      ...          ...          ...         ...        ...    ...   \n",
       "195  N13908  Corporation      EMBRAER  05/31/2002  EMB-145LR  Valid   \n",
       "196  N13913  Corporation      EMBRAER  05/25/2001  EMB-145LR  Valid   \n",
       "197  N13914  Corporation      EMBRAER  05/09/2001  EMB-145LR  Valid   \n",
       "198  N13929  Corporation      EMBRAER  11/29/1997  EMB-145EP  Valid   \n",
       "199  N13935  Corporation      EMBRAER  02/23/1998  EMB-145EP  Valid   \n",
       "\n",
       "               aircraft_type engine_type  year  \n",
       "0                        NaN         NaN   NaN  \n",
       "1                        NaN         NaN   NaN  \n",
       "2                        NaN         NaN   NaN  \n",
       "3                        NaN         NaN   NaN  \n",
       "4                        NaN         NaN   NaN  \n",
       "..                       ...         ...   ...  \n",
       "195  Fixed Wing Multi-Engine   Turbo-Fan  2001  \n",
       "196  Fixed Wing Multi-Engine   Turbo-Fan  2001  \n",
       "197  Fixed Wing Multi-Engine   Turbo-Fan  2001  \n",
       "198  Fixed Wing Multi-Engine   Turbo-Jet  1997  \n",
       "199  Fixed Wing Multi-Engine   Turbo-Jet  1997  \n",
       "\n",
       "[200 rows x 9 columns]"
      ]
     },
     "execution_count": 18,
     "metadata": {},
     "output_type": "execute_result"
    }
   ],
   "source": [
    "planes_data.head(200)"
   ]
  },
  {
   "cell_type": "code",
   "execution_count": 19,
   "id": "e9893140",
   "metadata": {},
   "outputs": [],
   "source": [
    "airplane_df = planes_data.rename(columns = {'tailnum': 'TailNum', 'year': 'pln_mfg_year'}, inplace = False)"
   ]
  },
  {
   "cell_type": "code",
   "execution_count": 20,
   "id": "cb12589d",
   "metadata": {},
   "outputs": [
    {
     "data": {
      "text/html": [
       "<div>\n",
       "<style scoped>\n",
       "    .dataframe tbody tr th:only-of-type {\n",
       "        vertical-align: middle;\n",
       "    }\n",
       "\n",
       "    .dataframe tbody tr th {\n",
       "        vertical-align: top;\n",
       "    }\n",
       "\n",
       "    .dataframe thead th {\n",
       "        text-align: right;\n",
       "    }\n",
       "</style>\n",
       "<table border=\"1\" class=\"dataframe\">\n",
       "  <thead>\n",
       "    <tr style=\"text-align: right;\">\n",
       "      <th></th>\n",
       "      <th>TailNum</th>\n",
       "      <th>type</th>\n",
       "      <th>manufacturer</th>\n",
       "      <th>issue_date</th>\n",
       "      <th>model</th>\n",
       "      <th>status</th>\n",
       "      <th>aircraft_type</th>\n",
       "      <th>engine_type</th>\n",
       "      <th>pln_mfg_year</th>\n",
       "    </tr>\n",
       "  </thead>\n",
       "  <tbody>\n",
       "    <tr>\n",
       "      <th>0</th>\n",
       "      <td>N050AA</td>\n",
       "      <td>NaN</td>\n",
       "      <td>NaN</td>\n",
       "      <td>NaN</td>\n",
       "      <td>NaN</td>\n",
       "      <td>NaN</td>\n",
       "      <td>NaN</td>\n",
       "      <td>NaN</td>\n",
       "      <td>NaN</td>\n",
       "    </tr>\n",
       "    <tr>\n",
       "      <th>1</th>\n",
       "      <td>N051AA</td>\n",
       "      <td>NaN</td>\n",
       "      <td>NaN</td>\n",
       "      <td>NaN</td>\n",
       "      <td>NaN</td>\n",
       "      <td>NaN</td>\n",
       "      <td>NaN</td>\n",
       "      <td>NaN</td>\n",
       "      <td>NaN</td>\n",
       "    </tr>\n",
       "    <tr>\n",
       "      <th>2</th>\n",
       "      <td>N052AA</td>\n",
       "      <td>NaN</td>\n",
       "      <td>NaN</td>\n",
       "      <td>NaN</td>\n",
       "      <td>NaN</td>\n",
       "      <td>NaN</td>\n",
       "      <td>NaN</td>\n",
       "      <td>NaN</td>\n",
       "      <td>NaN</td>\n",
       "    </tr>\n",
       "    <tr>\n",
       "      <th>3</th>\n",
       "      <td>N054AA</td>\n",
       "      <td>NaN</td>\n",
       "      <td>NaN</td>\n",
       "      <td>NaN</td>\n",
       "      <td>NaN</td>\n",
       "      <td>NaN</td>\n",
       "      <td>NaN</td>\n",
       "      <td>NaN</td>\n",
       "      <td>NaN</td>\n",
       "    </tr>\n",
       "    <tr>\n",
       "      <th>4</th>\n",
       "      <td>N055AA</td>\n",
       "      <td>NaN</td>\n",
       "      <td>NaN</td>\n",
       "      <td>NaN</td>\n",
       "      <td>NaN</td>\n",
       "      <td>NaN</td>\n",
       "      <td>NaN</td>\n",
       "      <td>NaN</td>\n",
       "      <td>NaN</td>\n",
       "    </tr>\n",
       "  </tbody>\n",
       "</table>\n",
       "</div>"
      ],
      "text/plain": [
       "  TailNum type manufacturer issue_date model status aircraft_type engine_type  \\\n",
       "0  N050AA  NaN          NaN        NaN   NaN    NaN           NaN         NaN   \n",
       "1  N051AA  NaN          NaN        NaN   NaN    NaN           NaN         NaN   \n",
       "2  N052AA  NaN          NaN        NaN   NaN    NaN           NaN         NaN   \n",
       "3  N054AA  NaN          NaN        NaN   NaN    NaN           NaN         NaN   \n",
       "4  N055AA  NaN          NaN        NaN   NaN    NaN           NaN         NaN   \n",
       "\n",
       "  pln_mfg_year  \n",
       "0          NaN  \n",
       "1          NaN  \n",
       "2          NaN  \n",
       "3          NaN  \n",
       "4          NaN  "
      ]
     },
     "execution_count": 20,
     "metadata": {},
     "output_type": "execute_result"
    }
   ],
   "source": [
    "airplane_df.head()"
   ]
  },
  {
   "cell_type": "code",
   "execution_count": 21,
   "id": "1a8b9020",
   "metadata": {},
   "outputs": [
    {
     "ename": "MemoryError",
     "evalue": "Unable to allocate 517. MiB for an array with shape (6, 11295340) and data type int64",
     "output_type": "error",
     "traceback": [
      "\u001b[1;31m---------------------------------------------------------------------------\u001b[0m",
      "\u001b[1;31mMemoryError\u001b[0m                               Traceback (most recent call last)",
      "\u001b[1;32m~\\AppData\\Local\\Temp/ipykernel_18440/2561070766.py\u001b[0m in \u001b[0;36m<module>\u001b[1;34m\u001b[0m\n\u001b[0;32m      1\u001b[0m \u001b[1;31m#Merging plane dataset with the flight one to get the year\u001b[0m\u001b[1;33m\u001b[0m\u001b[1;33m\u001b[0m\u001b[1;33m\u001b[0m\u001b[0m\n\u001b[1;32m----> 2\u001b[1;33m \u001b[0mdf_plane_data\u001b[0m \u001b[1;33m=\u001b[0m \u001b[0mpd\u001b[0m\u001b[1;33m.\u001b[0m\u001b[0mmerge\u001b[0m\u001b[1;33m(\u001b[0m\u001b[0mdf\u001b[0m\u001b[1;33m,\u001b[0m \u001b[0mairplane_df\u001b[0m\u001b[1;33m,\u001b[0m \u001b[0mon\u001b[0m\u001b[1;33m=\u001b[0m\u001b[1;34m'TailNum'\u001b[0m\u001b[1;33m)\u001b[0m\u001b[1;33m\u001b[0m\u001b[1;33m\u001b[0m\u001b[0m\n\u001b[0m",
      "\u001b[1;32m~\\anaconda3\\lib\\site-packages\\pandas\\core\\reshape\\merge.py\u001b[0m in \u001b[0;36mmerge\u001b[1;34m(left, right, how, on, left_on, right_on, left_index, right_index, sort, suffixes, copy, indicator, validate)\u001b[0m\n\u001b[0;32m    120\u001b[0m         \u001b[0mvalidate\u001b[0m\u001b[1;33m=\u001b[0m\u001b[0mvalidate\u001b[0m\u001b[1;33m,\u001b[0m\u001b[1;33m\u001b[0m\u001b[1;33m\u001b[0m\u001b[0m\n\u001b[0;32m    121\u001b[0m     )\n\u001b[1;32m--> 122\u001b[1;33m     \u001b[1;32mreturn\u001b[0m \u001b[0mop\u001b[0m\u001b[1;33m.\u001b[0m\u001b[0mget_result\u001b[0m\u001b[1;33m(\u001b[0m\u001b[1;33m)\u001b[0m\u001b[1;33m\u001b[0m\u001b[1;33m\u001b[0m\u001b[0m\n\u001b[0m\u001b[0;32m    123\u001b[0m \u001b[1;33m\u001b[0m\u001b[0m\n\u001b[0;32m    124\u001b[0m \u001b[1;33m\u001b[0m\u001b[0m\n",
      "\u001b[1;32m~\\anaconda3\\lib\\site-packages\\pandas\\core\\reshape\\merge.py\u001b[0m in \u001b[0;36mget_result\u001b[1;34m(self)\u001b[0m\n\u001b[0;32m    723\u001b[0m         \u001b[0mrindexers\u001b[0m \u001b[1;33m=\u001b[0m \u001b[1;33m{\u001b[0m\u001b[1;36m1\u001b[0m\u001b[1;33m:\u001b[0m \u001b[0mright_indexer\u001b[0m\u001b[1;33m}\u001b[0m \u001b[1;32mif\u001b[0m \u001b[0mright_indexer\u001b[0m \u001b[1;32mis\u001b[0m \u001b[1;32mnot\u001b[0m \u001b[1;32mNone\u001b[0m \u001b[1;32melse\u001b[0m \u001b[1;33m{\u001b[0m\u001b[1;33m}\u001b[0m\u001b[1;33m\u001b[0m\u001b[1;33m\u001b[0m\u001b[0m\n\u001b[0;32m    724\u001b[0m \u001b[1;33m\u001b[0m\u001b[0m\n\u001b[1;32m--> 725\u001b[1;33m         result_data = concatenate_managers(\n\u001b[0m\u001b[0;32m    726\u001b[0m             \u001b[1;33m[\u001b[0m\u001b[1;33m(\u001b[0m\u001b[0mself\u001b[0m\u001b[1;33m.\u001b[0m\u001b[0mleft\u001b[0m\u001b[1;33m.\u001b[0m\u001b[0m_mgr\u001b[0m\u001b[1;33m,\u001b[0m \u001b[0mlindexers\u001b[0m\u001b[1;33m)\u001b[0m\u001b[1;33m,\u001b[0m \u001b[1;33m(\u001b[0m\u001b[0mself\u001b[0m\u001b[1;33m.\u001b[0m\u001b[0mright\u001b[0m\u001b[1;33m.\u001b[0m\u001b[0m_mgr\u001b[0m\u001b[1;33m,\u001b[0m \u001b[0mrindexers\u001b[0m\u001b[1;33m)\u001b[0m\u001b[1;33m]\u001b[0m\u001b[1;33m,\u001b[0m\u001b[1;33m\u001b[0m\u001b[1;33m\u001b[0m\u001b[0m\n\u001b[0;32m    727\u001b[0m             \u001b[0maxes\u001b[0m\u001b[1;33m=\u001b[0m\u001b[1;33m[\u001b[0m\u001b[0mllabels\u001b[0m\u001b[1;33m.\u001b[0m\u001b[0mappend\u001b[0m\u001b[1;33m(\u001b[0m\u001b[0mrlabels\u001b[0m\u001b[1;33m)\u001b[0m\u001b[1;33m,\u001b[0m \u001b[0mjoin_index\u001b[0m\u001b[1;33m]\u001b[0m\u001b[1;33m,\u001b[0m\u001b[1;33m\u001b[0m\u001b[1;33m\u001b[0m\u001b[0m\n",
      "\u001b[1;32m~\\anaconda3\\lib\\site-packages\\pandas\\core\\internals\\concat.py\u001b[0m in \u001b[0;36mconcatenate_managers\u001b[1;34m(mgrs_indexers, axes, concat_axis, copy)\u001b[0m\n\u001b[0;32m    224\u001b[0m             \u001b[0mfastpath\u001b[0m \u001b[1;33m=\u001b[0m \u001b[0mblk\u001b[0m\u001b[1;33m.\u001b[0m\u001b[0mvalues\u001b[0m\u001b[1;33m.\u001b[0m\u001b[0mdtype\u001b[0m \u001b[1;33m==\u001b[0m \u001b[0mvalues\u001b[0m\u001b[1;33m.\u001b[0m\u001b[0mdtype\u001b[0m\u001b[1;33m\u001b[0m\u001b[1;33m\u001b[0m\u001b[0m\n\u001b[0;32m    225\u001b[0m         \u001b[1;32melse\u001b[0m\u001b[1;33m:\u001b[0m\u001b[1;33m\u001b[0m\u001b[1;33m\u001b[0m\u001b[0m\n\u001b[1;32m--> 226\u001b[1;33m             \u001b[0mvalues\u001b[0m \u001b[1;33m=\u001b[0m \u001b[0m_concatenate_join_units\u001b[0m\u001b[1;33m(\u001b[0m\u001b[0mjoin_units\u001b[0m\u001b[1;33m,\u001b[0m \u001b[0mconcat_axis\u001b[0m\u001b[1;33m,\u001b[0m \u001b[0mcopy\u001b[0m\u001b[1;33m=\u001b[0m\u001b[0mcopy\u001b[0m\u001b[1;33m)\u001b[0m\u001b[1;33m\u001b[0m\u001b[1;33m\u001b[0m\u001b[0m\n\u001b[0m\u001b[0;32m    227\u001b[0m             \u001b[0mfastpath\u001b[0m \u001b[1;33m=\u001b[0m \u001b[1;32mFalse\u001b[0m\u001b[1;33m\u001b[0m\u001b[1;33m\u001b[0m\u001b[0m\n\u001b[0;32m    228\u001b[0m \u001b[1;33m\u001b[0m\u001b[0m\n",
      "\u001b[1;32m~\\anaconda3\\lib\\site-packages\\pandas\\core\\internals\\concat.py\u001b[0m in \u001b[0;36m_concatenate_join_units\u001b[1;34m(join_units, concat_axis, copy)\u001b[0m\n\u001b[0;32m    488\u001b[0m     \u001b[0mupcasted_na\u001b[0m \u001b[1;33m=\u001b[0m \u001b[0m_dtype_to_na_value\u001b[0m\u001b[1;33m(\u001b[0m\u001b[0mempty_dtype\u001b[0m\u001b[1;33m,\u001b[0m \u001b[0mhas_none_blocks\u001b[0m\u001b[1;33m)\u001b[0m\u001b[1;33m\u001b[0m\u001b[1;33m\u001b[0m\u001b[0m\n\u001b[0;32m    489\u001b[0m \u001b[1;33m\u001b[0m\u001b[0m\n\u001b[1;32m--> 490\u001b[1;33m     to_concat = [\n\u001b[0m\u001b[0;32m    491\u001b[0m         \u001b[0mju\u001b[0m\u001b[1;33m.\u001b[0m\u001b[0mget_reindexed_values\u001b[0m\u001b[1;33m(\u001b[0m\u001b[0mempty_dtype\u001b[0m\u001b[1;33m=\u001b[0m\u001b[0mempty_dtype\u001b[0m\u001b[1;33m,\u001b[0m \u001b[0mupcasted_na\u001b[0m\u001b[1;33m=\u001b[0m\u001b[0mupcasted_na\u001b[0m\u001b[1;33m)\u001b[0m\u001b[1;33m\u001b[0m\u001b[1;33m\u001b[0m\u001b[0m\n\u001b[0;32m    492\u001b[0m         \u001b[1;32mfor\u001b[0m \u001b[0mju\u001b[0m \u001b[1;32min\u001b[0m \u001b[0mjoin_units\u001b[0m\u001b[1;33m\u001b[0m\u001b[1;33m\u001b[0m\u001b[0m\n",
      "\u001b[1;32m~\\anaconda3\\lib\\site-packages\\pandas\\core\\internals\\concat.py\u001b[0m in \u001b[0;36m<listcomp>\u001b[1;34m(.0)\u001b[0m\n\u001b[0;32m    489\u001b[0m \u001b[1;33m\u001b[0m\u001b[0m\n\u001b[0;32m    490\u001b[0m     to_concat = [\n\u001b[1;32m--> 491\u001b[1;33m         \u001b[0mju\u001b[0m\u001b[1;33m.\u001b[0m\u001b[0mget_reindexed_values\u001b[0m\u001b[1;33m(\u001b[0m\u001b[0mempty_dtype\u001b[0m\u001b[1;33m=\u001b[0m\u001b[0mempty_dtype\u001b[0m\u001b[1;33m,\u001b[0m \u001b[0mupcasted_na\u001b[0m\u001b[1;33m=\u001b[0m\u001b[0mupcasted_na\u001b[0m\u001b[1;33m)\u001b[0m\u001b[1;33m\u001b[0m\u001b[1;33m\u001b[0m\u001b[0m\n\u001b[0m\u001b[0;32m    492\u001b[0m         \u001b[1;32mfor\u001b[0m \u001b[0mju\u001b[0m \u001b[1;32min\u001b[0m \u001b[0mjoin_units\u001b[0m\u001b[1;33m\u001b[0m\u001b[1;33m\u001b[0m\u001b[0m\n\u001b[0;32m    493\u001b[0m     ]\n",
      "\u001b[1;32m~\\anaconda3\\lib\\site-packages\\pandas\\core\\internals\\concat.py\u001b[0m in \u001b[0;36mget_reindexed_values\u001b[1;34m(self, empty_dtype, upcasted_na)\u001b[0m\n\u001b[0;32m    468\u001b[0m         \u001b[1;32melse\u001b[0m\u001b[1;33m:\u001b[0m\u001b[1;33m\u001b[0m\u001b[1;33m\u001b[0m\u001b[0m\n\u001b[0;32m    469\u001b[0m             \u001b[1;32mfor\u001b[0m \u001b[0max\u001b[0m\u001b[1;33m,\u001b[0m \u001b[0mindexer\u001b[0m \u001b[1;32min\u001b[0m \u001b[0mself\u001b[0m\u001b[1;33m.\u001b[0m\u001b[0mindexers\u001b[0m\u001b[1;33m.\u001b[0m\u001b[0mitems\u001b[0m\u001b[1;33m(\u001b[0m\u001b[1;33m)\u001b[0m\u001b[1;33m:\u001b[0m\u001b[1;33m\u001b[0m\u001b[1;33m\u001b[0m\u001b[0m\n\u001b[1;32m--> 470\u001b[1;33m                 \u001b[0mvalues\u001b[0m \u001b[1;33m=\u001b[0m \u001b[0malgos\u001b[0m\u001b[1;33m.\u001b[0m\u001b[0mtake_nd\u001b[0m\u001b[1;33m(\u001b[0m\u001b[0mvalues\u001b[0m\u001b[1;33m,\u001b[0m \u001b[0mindexer\u001b[0m\u001b[1;33m,\u001b[0m \u001b[0maxis\u001b[0m\u001b[1;33m=\u001b[0m\u001b[0max\u001b[0m\u001b[1;33m)\u001b[0m\u001b[1;33m\u001b[0m\u001b[1;33m\u001b[0m\u001b[0m\n\u001b[0m\u001b[0;32m    471\u001b[0m \u001b[1;33m\u001b[0m\u001b[0m\n\u001b[0;32m    472\u001b[0m         \u001b[1;32mreturn\u001b[0m \u001b[0mvalues\u001b[0m\u001b[1;33m\u001b[0m\u001b[1;33m\u001b[0m\u001b[0m\n",
      "\u001b[1;32m~\\anaconda3\\lib\\site-packages\\pandas\\core\\array_algos\\take.py\u001b[0m in \u001b[0;36mtake_nd\u001b[1;34m(arr, indexer, axis, fill_value, allow_fill)\u001b[0m\n\u001b[0;32m    106\u001b[0m \u001b[1;33m\u001b[0m\u001b[0m\n\u001b[0;32m    107\u001b[0m     \u001b[0marr\u001b[0m \u001b[1;33m=\u001b[0m \u001b[0mnp\u001b[0m\u001b[1;33m.\u001b[0m\u001b[0masarray\u001b[0m\u001b[1;33m(\u001b[0m\u001b[0marr\u001b[0m\u001b[1;33m)\u001b[0m\u001b[1;33m\u001b[0m\u001b[1;33m\u001b[0m\u001b[0m\n\u001b[1;32m--> 108\u001b[1;33m     \u001b[1;32mreturn\u001b[0m \u001b[0m_take_nd_ndarray\u001b[0m\u001b[1;33m(\u001b[0m\u001b[0marr\u001b[0m\u001b[1;33m,\u001b[0m \u001b[0mindexer\u001b[0m\u001b[1;33m,\u001b[0m \u001b[0maxis\u001b[0m\u001b[1;33m,\u001b[0m \u001b[0mfill_value\u001b[0m\u001b[1;33m,\u001b[0m \u001b[0mallow_fill\u001b[0m\u001b[1;33m)\u001b[0m\u001b[1;33m\u001b[0m\u001b[1;33m\u001b[0m\u001b[0m\n\u001b[0m\u001b[0;32m    109\u001b[0m \u001b[1;33m\u001b[0m\u001b[0m\n\u001b[0;32m    110\u001b[0m \u001b[1;33m\u001b[0m\u001b[0m\n",
      "\u001b[1;32m~\\anaconda3\\lib\\site-packages\\pandas\\core\\array_algos\\take.py\u001b[0m in \u001b[0;36m_take_nd_ndarray\u001b[1;34m(arr, indexer, axis, fill_value, allow_fill)\u001b[0m\n\u001b[0;32m    147\u001b[0m         \u001b[0mout\u001b[0m \u001b[1;33m=\u001b[0m \u001b[0mnp\u001b[0m\u001b[1;33m.\u001b[0m\u001b[0mempty\u001b[0m\u001b[1;33m(\u001b[0m\u001b[0mout_shape\u001b[0m\u001b[1;33m,\u001b[0m \u001b[0mdtype\u001b[0m\u001b[1;33m=\u001b[0m\u001b[0mdtype\u001b[0m\u001b[1;33m,\u001b[0m \u001b[0morder\u001b[0m\u001b[1;33m=\u001b[0m\u001b[1;34m\"F\"\u001b[0m\u001b[1;33m)\u001b[0m\u001b[1;33m\u001b[0m\u001b[1;33m\u001b[0m\u001b[0m\n\u001b[0;32m    148\u001b[0m     \u001b[1;32melse\u001b[0m\u001b[1;33m:\u001b[0m\u001b[1;33m\u001b[0m\u001b[1;33m\u001b[0m\u001b[0m\n\u001b[1;32m--> 149\u001b[1;33m         \u001b[0mout\u001b[0m \u001b[1;33m=\u001b[0m \u001b[0mnp\u001b[0m\u001b[1;33m.\u001b[0m\u001b[0mempty\u001b[0m\u001b[1;33m(\u001b[0m\u001b[0mout_shape\u001b[0m\u001b[1;33m,\u001b[0m \u001b[0mdtype\u001b[0m\u001b[1;33m=\u001b[0m\u001b[0mdtype\u001b[0m\u001b[1;33m)\u001b[0m\u001b[1;33m\u001b[0m\u001b[1;33m\u001b[0m\u001b[0m\n\u001b[0m\u001b[0;32m    150\u001b[0m \u001b[1;33m\u001b[0m\u001b[0m\n\u001b[0;32m    151\u001b[0m     func = _get_take_nd_function(\n",
      "\u001b[1;31mMemoryError\u001b[0m: Unable to allocate 517. MiB for an array with shape (6, 11295340) and data type int64"
     ]
    }
   ],
   "source": [
    "#Merging plane dataset with the flight one to get the year\n",
    "df_plane_data = pd.merge(df, airplane_df, on='TailNum')"
   ]
  },
  {
   "cell_type": "code",
   "execution_count": null,
   "id": "0740f190",
   "metadata": {},
   "outputs": [],
   "source": [
    "df_plane_data.head()"
   ]
  },
  {
   "cell_type": "code",
   "execution_count": null,
   "id": "ea1c0513",
   "metadata": {},
   "outputs": [],
   "source": [
    "df_plane_data.columns"
   ]
  },
  {
   "cell_type": "code",
   "execution_count": null,
   "id": "c4fffd31",
   "metadata": {},
   "outputs": [],
   "source": [
    "df_plane_data_agg = df_plane_data.groupby('pln_mfg_year')[['DepDelay','ArrDelay']].sum()"
   ]
  },
  {
   "cell_type": "code",
   "execution_count": null,
   "id": "1de31ed3",
   "metadata": {},
   "outputs": [],
   "source": [
    "df_plane_data_agg.head()"
   ]
  },
  {
   "cell_type": "code",
   "execution_count": null,
   "id": "7cdef5e6",
   "metadata": {},
   "outputs": [],
   "source": [
    "df_plane_data_agg = df_plane_data_agg.reset_index()"
   ]
  },
  {
   "cell_type": "code",
   "execution_count": null,
   "id": "487ed3fa",
   "metadata": {
    "scrolled": true
   },
   "outputs": [],
   "source": [
    "#plt.figure(figsize=(50,8))\n",
    "sns.catplot(x=\"pln_mfg_year\", y=\"ArrDelay\", kind=\"bar\", data=df_plane_data_agg,height=50, aspect=8.27)"
   ]
  },
  {
   "cell_type": "markdown",
   "id": "662b5aa8",
   "metadata": {},
   "source": [
    "#### Q2 - Answer : Looking at the bar chart above, older plane suffers less delay as the mfg year progresses."
   ]
  },
  {
   "cell_type": "code",
   "execution_count": null,
   "id": "2259d0fe",
   "metadata": {},
   "outputs": [],
   "source": []
  },
  {
   "cell_type": "markdown",
   "id": "33899843",
   "metadata": {},
   "source": [
    "### Q3 - How does the number of people flying between different locations change over time?"
   ]
  },
  {
   "cell_type": "code",
   "execution_count": null,
   "id": "6f72b4c2",
   "metadata": {},
   "outputs": [],
   "source": [
    "df_location = df[['Year','Month','DayofMonth','DayOfWeek','Origin','Dest','Distance']]"
   ]
  },
  {
   "cell_type": "code",
   "execution_count": null,
   "id": "02ff5937",
   "metadata": {},
   "outputs": [],
   "source": [
    "df_location.head()"
   ]
  },
  {
   "cell_type": "code",
   "execution_count": null,
   "id": "1ca76d80",
   "metadata": {},
   "outputs": [],
   "source": [
    "#Lets check for the people count from travelling to BOS to ORD\n",
    "df_loc =df_location[(df['Origin'] == 'BOS') &\n",
    "              (df['Dest'] == 'ORD')]"
   ]
  },
  {
   "cell_type": "code",
   "execution_count": null,
   "id": "c12f6c5e",
   "metadata": {},
   "outputs": [],
   "source": [
    "plt.figure(figsize = (16,6))\n",
    "df_loc.groupby(['Month']).size().plot()\n",
    "plt.show()"
   ]
  },
  {
   "cell_type": "code",
   "execution_count": null,
   "id": "eda8861f",
   "metadata": {},
   "outputs": [],
   "source": [
    "plt.figure(figsize = (16,6))\n",
    "df_loc.groupby(['DayOfWeek']).size().plot()\n",
    "plt.show()"
   ]
  },
  {
   "cell_type": "code",
   "execution_count": null,
   "id": "cecb3906",
   "metadata": {},
   "outputs": [],
   "source": [
    "plt.figure(figsize = (16,6))\n",
    "df_loc.groupby(['DayofMonth']).size().plot()\n",
    "plt.show()"
   ]
  },
  {
   "cell_type": "markdown",
   "id": "58323f75",
   "metadata": {},
   "source": [
    "#### Q3 - ANSWER: Looking at the above graphs, it seems like people travel pattern from BOS to ORD is less at the end of the month, and on Saturdays and  in May-June month."
   ]
  },
  {
   "cell_type": "code",
   "execution_count": null,
   "id": "84e5500b",
   "metadata": {},
   "outputs": [],
   "source": []
  },
  {
   "cell_type": "markdown",
   "id": "75f571ee",
   "metadata": {},
   "source": [
    "### Q4 - Can you detect cascading failures as delays in one airport create delays in others?"
   ]
  },
  {
   "cell_type": "code",
   "execution_count": null,
   "id": "45331c73",
   "metadata": {},
   "outputs": [],
   "source": [
    "df_analysis = df[['DayofMonth','UniqueCarrier','TailNum','Origin','Dest','Distance','CRSDepTime','DepTime','DepDelay','CRSArrTime','ArrTime','ArrDelay']]\n"
   ]
  },
  {
   "cell_type": "code",
   "execution_count": null,
   "id": "94d422a8",
   "metadata": {},
   "outputs": [],
   "source": [
    "df_analysis.head(5)"
   ]
  },
  {
   "cell_type": "code",
   "execution_count": null,
   "id": "707ccb7e",
   "metadata": {},
   "outputs": [],
   "source": [
    "rslt_df = df_analysis[(df_analysis['DepDelay'] > 0) &\n",
    "              (df_analysis['ArrDelay'] > 0)]"
   ]
  },
  {
   "cell_type": "code",
   "execution_count": null,
   "id": "58868a5f",
   "metadata": {},
   "outputs": [],
   "source": [
    "rslt_df[(rslt_df['DayofMonth']==11) & (rslt_df['TailNum']=='N902UA')].head(1)"
   ]
  },
  {
   "cell_type": "markdown",
   "id": "cf985d17",
   "metadata": {},
   "source": [
    "#### Q4 - Anwer: Yes, there are cascading failures as delays in one airport create delays in others. For example:"
   ]
  },
  {
   "cell_type": "code",
   "execution_count": null,
   "id": "761920ed",
   "metadata": {},
   "outputs": [],
   "source": [
    "rslt_df[(rslt_df['DayofMonth']==11) & (rslt_df['TailNum']=='N902UA')].head(2)"
   ]
  },
  {
   "cell_type": "markdown",
   "id": "dab03e67",
   "metadata": {},
   "source": [
    "##### Flight ‘N902UA’ has to depart at 1554 (3.54 PM) ON 11 of the MONTH; but it is departed at 16:58 (4.58 PM). It is ~1 Hr delayed. It is flew from DFW to ORD . Now it supposed to reached at 22:23 (10.23 PM), but reached at 22:59 ( 10.59 PM).\n",
    "\n",
    "\n"
   ]
  },
  {
   "cell_type": "markdown",
   "id": "b1d1e7ab",
   "metadata": {},
   "source": [
    "##### Now let see what happened at ORD airport at 11 of the MONTH?"
   ]
  },
  {
   "cell_type": "code",
   "execution_count": null,
   "id": "098a8f5c",
   "metadata": {},
   "outputs": [],
   "source": [
    "#ADD A DATAFRAME HERE\n",
    "\n",
    "rslt_df[(rslt_df['DayofMonth']==11) & (rslt_df['TailNum']=='N902UA')].head(2)"
   ]
  },
  {
   "cell_type": "markdown",
   "id": "cb31fce1",
   "metadata": {},
   "source": [
    "\n",
    "\n",
    "#### At ORD airport flight ‘N348UA’ depart late. It suppose to depart at 19:00 (7.00 PM) but actually it is departed at 07:46 (7.46 PM) 46 minutes delayed. \n",
    "\n",
    "\n",
    "#### Similarly we can observe same ‘N920UA’ delayed by 1 hr 5 minutes."
   ]
  },
  {
   "cell_type": "code",
   "execution_count": null,
   "id": "320802dc",
   "metadata": {},
   "outputs": [],
   "source": []
  },
  {
   "cell_type": "markdown",
   "id": "9dcb65dc",
   "metadata": {},
   "source": [
    "### Q5 - Use the available variables to construct a model that predicts delays."
   ]
  },
  {
   "cell_type": "code",
   "execution_count": 5,
   "id": "286f1d9d",
   "metadata": {},
   "outputs": [],
   "source": [
    "df_modelling = df[['DayofMonth','Year','DayOfWeek','UniqueCarrier','TailNum','Origin','Dest','Distance','CRSDepTime','DepTime','DepDelay','CRSArrTime','ArrTime','ArrDelay',\n",
    "                      'TaxiIn','TaxiOut','Cancelled','CarrierDelay','WeatherDelay','NASDelay','SecurityDelay'\n",
    "                  ]]\n"
   ]
  },
  {
   "cell_type": "code",
   "execution_count": 6,
   "id": "353fcf46",
   "metadata": {},
   "outputs": [],
   "source": [
    "df_modelling = df_modelling.head(1000)"
   ]
  },
  {
   "cell_type": "code",
   "execution_count": 7,
   "id": "f593971e",
   "metadata": {},
   "outputs": [
    {
     "data": {
      "text/plain": [
       "(1000, 21)"
      ]
     },
     "execution_count": 7,
     "metadata": {},
     "output_type": "execute_result"
    }
   ],
   "source": [
    "df_modelling.shape"
   ]
  },
  {
   "cell_type": "code",
   "execution_count": 8,
   "id": "93dda814",
   "metadata": {},
   "outputs": [],
   "source": [
    "df_modelling['ARR_DELAY'] = 0\n",
    "df_modelling['ARR_DELAY'].mask(df_modelling['ArrDelay'] > 0, 1, inplace=True)"
   ]
  },
  {
   "cell_type": "code",
   "execution_count": 9,
   "id": "5cd1da95",
   "metadata": {},
   "outputs": [
    {
     "data": {
      "text/html": [
       "<div>\n",
       "<style scoped>\n",
       "    .dataframe tbody tr th:only-of-type {\n",
       "        vertical-align: middle;\n",
       "    }\n",
       "\n",
       "    .dataframe tbody tr th {\n",
       "        vertical-align: top;\n",
       "    }\n",
       "\n",
       "    .dataframe thead th {\n",
       "        text-align: right;\n",
       "    }\n",
       "</style>\n",
       "<table border=\"1\" class=\"dataframe\">\n",
       "  <thead>\n",
       "    <tr style=\"text-align: right;\">\n",
       "      <th></th>\n",
       "      <th>DayofMonth</th>\n",
       "      <th>Year</th>\n",
       "      <th>DayOfWeek</th>\n",
       "      <th>UniqueCarrier</th>\n",
       "      <th>TailNum</th>\n",
       "      <th>Origin</th>\n",
       "      <th>Dest</th>\n",
       "      <th>Distance</th>\n",
       "      <th>CRSDepTime</th>\n",
       "      <th>DepTime</th>\n",
       "      <th>...</th>\n",
       "      <th>ArrTime</th>\n",
       "      <th>ArrDelay</th>\n",
       "      <th>TaxiIn</th>\n",
       "      <th>TaxiOut</th>\n",
       "      <th>Cancelled</th>\n",
       "      <th>CarrierDelay</th>\n",
       "      <th>WeatherDelay</th>\n",
       "      <th>NASDelay</th>\n",
       "      <th>SecurityDelay</th>\n",
       "      <th>ARR_DELAY</th>\n",
       "    </tr>\n",
       "  </thead>\n",
       "  <tbody>\n",
       "    <tr>\n",
       "      <th>0</th>\n",
       "      <td>28</td>\n",
       "      <td>2005</td>\n",
       "      <td>5</td>\n",
       "      <td>UA</td>\n",
       "      <td>N935UA</td>\n",
       "      <td>BOS</td>\n",
       "      <td>ORD</td>\n",
       "      <td>867</td>\n",
       "      <td>1605</td>\n",
       "      <td>1603.0</td>\n",
       "      <td>...</td>\n",
       "      <td>1741.0</td>\n",
       "      <td>-18.0</td>\n",
       "      <td>4</td>\n",
       "      <td>23</td>\n",
       "      <td>0</td>\n",
       "      <td>0</td>\n",
       "      <td>0</td>\n",
       "      <td>0</td>\n",
       "      <td>0</td>\n",
       "      <td>0</td>\n",
       "    </tr>\n",
       "    <tr>\n",
       "      <th>1</th>\n",
       "      <td>29</td>\n",
       "      <td>2005</td>\n",
       "      <td>6</td>\n",
       "      <td>UA</td>\n",
       "      <td>N941UA</td>\n",
       "      <td>BOS</td>\n",
       "      <td>ORD</td>\n",
       "      <td>867</td>\n",
       "      <td>1605</td>\n",
       "      <td>1559.0</td>\n",
       "      <td>...</td>\n",
       "      <td>1736.0</td>\n",
       "      <td>-23.0</td>\n",
       "      <td>6</td>\n",
       "      <td>15</td>\n",
       "      <td>0</td>\n",
       "      <td>0</td>\n",
       "      <td>0</td>\n",
       "      <td>0</td>\n",
       "      <td>0</td>\n",
       "      <td>0</td>\n",
       "    </tr>\n",
       "    <tr>\n",
       "      <th>2</th>\n",
       "      <td>30</td>\n",
       "      <td>2005</td>\n",
       "      <td>7</td>\n",
       "      <td>UA</td>\n",
       "      <td>N342UA</td>\n",
       "      <td>BOS</td>\n",
       "      <td>ORD</td>\n",
       "      <td>867</td>\n",
       "      <td>1610</td>\n",
       "      <td>1603.0</td>\n",
       "      <td>...</td>\n",
       "      <td>1741.0</td>\n",
       "      <td>-24.0</td>\n",
       "      <td>9</td>\n",
       "      <td>18</td>\n",
       "      <td>0</td>\n",
       "      <td>0</td>\n",
       "      <td>0</td>\n",
       "      <td>0</td>\n",
       "      <td>0</td>\n",
       "      <td>0</td>\n",
       "    </tr>\n",
       "    <tr>\n",
       "      <th>3</th>\n",
       "      <td>31</td>\n",
       "      <td>2005</td>\n",
       "      <td>1</td>\n",
       "      <td>UA</td>\n",
       "      <td>N326UA</td>\n",
       "      <td>BOS</td>\n",
       "      <td>ORD</td>\n",
       "      <td>867</td>\n",
       "      <td>1605</td>\n",
       "      <td>1556.0</td>\n",
       "      <td>...</td>\n",
       "      <td>1726.0</td>\n",
       "      <td>-33.0</td>\n",
       "      <td>11</td>\n",
       "      <td>10</td>\n",
       "      <td>0</td>\n",
       "      <td>0</td>\n",
       "      <td>0</td>\n",
       "      <td>0</td>\n",
       "      <td>0</td>\n",
       "      <td>0</td>\n",
       "    </tr>\n",
       "    <tr>\n",
       "      <th>4</th>\n",
       "      <td>2</td>\n",
       "      <td>2005</td>\n",
       "      <td>7</td>\n",
       "      <td>UA</td>\n",
       "      <td>N902UA</td>\n",
       "      <td>ORD</td>\n",
       "      <td>BOS</td>\n",
       "      <td>867</td>\n",
       "      <td>1900</td>\n",
       "      <td>1934.0</td>\n",
       "      <td>...</td>\n",
       "      <td>2235.0</td>\n",
       "      <td>3.0</td>\n",
       "      <td>5</td>\n",
       "      <td>10</td>\n",
       "      <td>0</td>\n",
       "      <td>0</td>\n",
       "      <td>0</td>\n",
       "      <td>0</td>\n",
       "      <td>0</td>\n",
       "      <td>1</td>\n",
       "    </tr>\n",
       "  </tbody>\n",
       "</table>\n",
       "<p>5 rows × 22 columns</p>\n",
       "</div>"
      ],
      "text/plain": [
       "   DayofMonth  Year  DayOfWeek UniqueCarrier TailNum Origin Dest  Distance  \\\n",
       "0          28  2005          5            UA  N935UA    BOS  ORD       867   \n",
       "1          29  2005          6            UA  N941UA    BOS  ORD       867   \n",
       "2          30  2005          7            UA  N342UA    BOS  ORD       867   \n",
       "3          31  2005          1            UA  N326UA    BOS  ORD       867   \n",
       "4           2  2005          7            UA  N902UA    ORD  BOS       867   \n",
       "\n",
       "   CRSDepTime  DepTime  ...  ArrTime  ArrDelay  TaxiIn  TaxiOut  Cancelled  \\\n",
       "0        1605   1603.0  ...   1741.0     -18.0       4       23          0   \n",
       "1        1605   1559.0  ...   1736.0     -23.0       6       15          0   \n",
       "2        1610   1603.0  ...   1741.0     -24.0       9       18          0   \n",
       "3        1605   1556.0  ...   1726.0     -33.0      11       10          0   \n",
       "4        1900   1934.0  ...   2235.0       3.0       5       10          0   \n",
       "\n",
       "   CarrierDelay  WeatherDelay  NASDelay  SecurityDelay  ARR_DELAY  \n",
       "0             0             0         0              0          0  \n",
       "1             0             0         0              0          0  \n",
       "2             0             0         0              0          0  \n",
       "3             0             0         0              0          0  \n",
       "4             0             0         0              0          1  \n",
       "\n",
       "[5 rows x 22 columns]"
      ]
     },
     "execution_count": 9,
     "metadata": {},
     "output_type": "execute_result"
    }
   ],
   "source": [
    "df_modelling.head()"
   ]
  },
  {
   "cell_type": "code",
   "execution_count": 10,
   "id": "ac05427e",
   "metadata": {},
   "outputs": [],
   "source": [
    "# Define numbers by actual days and months.\n",
    "df_modelling.loc[df_modelling['DayOfWeek'] == 'Monday', ['DayOfWeek']] = 1\n",
    "df_modelling.loc[df_modelling['DayOfWeek'] == 'Tuesday', ['DayOfWeek']] = 2\n",
    "df_modelling.loc[df_modelling['DayOfWeek'] == 'Wednesday', ['DayOfWeek']] =3 \n",
    "df_modelling.loc[df_modelling['DayOfWeek'] == 'Thursday', ['DayOfWeek']] = 4\n",
    "df_modelling.loc[df_modelling['DayOfWeek'] == 'Friday', ['DayOfWeek']] = 5\n",
    "df_modelling.loc[df_modelling['DayOfWeek'] == 'Saturday', ['DayOfWeek']] =6 \n",
    "df_modelling.loc[df_modelling['DayOfWeek'] == 'Sunday', ['DayOfWeek']] = 7"
   ]
  },
  {
   "cell_type": "code",
   "execution_count": 11,
   "id": "1c2ddf24",
   "metadata": {},
   "outputs": [],
   "source": [
    "from sklearn.linear_model import LogisticRegression\n",
    "from sklearn.model_selection import train_test_split\n",
    "\n",
    "#Segregating the Independent and the dependant variable\n",
    "y = df_modelling[\"ARR_DELAY\"].values\n",
    "X = df_modelling.drop([\"ARR_DELAY\",'UniqueCarrier','TailNum','Origin','Dest'],axis =1)\n"
   ]
  },
  {
   "cell_type": "code",
   "execution_count": 12,
   "id": "8c23300c",
   "metadata": {},
   "outputs": [
    {
     "name": "stderr",
     "output_type": "stream",
     "text": [
      "C:\\Users\\wokie\\anaconda3\\lib\\site-packages\\sklearn\\linear_model\\_logistic.py:763: ConvergenceWarning: lbfgs failed to converge (status=1):\n",
      "STOP: TOTAL NO. of ITERATIONS REACHED LIMIT.\n",
      "\n",
      "Increase the number of iterations (max_iter) or scale the data as shown in:\n",
      "    https://scikit-learn.org/stable/modules/preprocessing.html\n",
      "Please also refer to the documentation for alternative solver options:\n",
      "    https://scikit-learn.org/stable/modules/linear_model.html#logistic-regression\n",
      "  n_iter_i = _check_optimize_result(\n"
     ]
    },
    {
     "data": {
      "text/plain": [
       "0.9833333333333333"
      ]
     },
     "execution_count": 12,
     "metadata": {},
     "output_type": "execute_result"
    }
   ],
   "source": [
    "#Applying Logistic Regression\n",
    "LR = LogisticRegression()\n",
    "\n",
    "#Spliting data into train and test\n",
    "X_train, X_test, y_train, y_test = train_test_split(X, y, test_size=0.30, random_state=42)\n",
    "\n",
    "LR.fit(X_train, y_train)\n",
    "LR.score(X_test,y_test)"
   ]
  },
  {
   "cell_type": "code",
   "execution_count": 13,
   "id": "1dd7cf9d",
   "metadata": {},
   "outputs": [
    {
     "name": "stdout",
     "output_type": "stream",
     "text": [
      "              precision    recall  f1-score   support\n",
      "\n",
      "           0       0.97      0.99      0.98       128\n",
      "           1       0.99      0.98      0.99       172\n",
      "\n",
      "    accuracy                           0.98       300\n",
      "   macro avg       0.98      0.98      0.98       300\n",
      "weighted avg       0.98      0.98      0.98       300\n",
      "\n"
     ]
    }
   ],
   "source": [
    "#Fitting Logistic Regression model to the dataset\n",
    "\n",
    "y_pred_lr = LR.predict(X_test)\n",
    "from sklearn.metrics import classification_report\n",
    "model_report = classification_report(y_test, y_pred_lr)\n",
    "print(model_report)"
   ]
  },
  {
   "cell_type": "code",
   "execution_count": 14,
   "id": "613b2a9f",
   "metadata": {},
   "outputs": [
    {
     "data": {
      "image/png": "[encoded data removed]",
      "text/plain": [
       "<Figure size 432x432 with 2 Axes>"
      ]
     },
     "metadata": {
      "needs_background": "light"
     },
     "output_type": "display_data"
    }
   ],
   "source": [
    "#Function to plot the confusion Matrix\n",
    "from sklearn.metrics import auc,confusion_matrix\n",
    "\n",
    "confusion_mat = confusion_matrix(y_test,y_pred_lr)\n",
    "import itertools\n",
    "def plot_confusion_matrix(model,normalize=False): # This function prints and plots the confusion matrix.\n",
    "    cm = confusion_matrix(y_test, model, labels=[0, 1])\n",
    "    classes=[\"On Time\", \"Delayed\"]\n",
    "    cmap = plt.cm.Blues\n",
    "    title = f\"Confusion Matrix\"\n",
    "    if normalize:\n",
    "        cm = cm.astype('float') / cm.sum(axis=1)[:, np.newaxis]\n",
    "        cm = np.around(cm, decimals=3)\n",
    "    plt.imshow(cm, interpolation='nearest', cmap=cmap)\n",
    "    plt.title(title)\n",
    "    plt.colorbar()\n",
    "    tick_marks = np.arange(len(classes))\n",
    "    plt.xticks(tick_marks, classes, rotation=45)\n",
    "    plt.yticks(tick_marks, classes)\n",
    "    thresh = cm.max() / 2.\n",
    "    for i, j in itertools.product(range(cm.shape[0]), range(cm.shape[1])):\n",
    "        plt.text(j, i, cm[i, j],\n",
    "                 horizontalalignment=\"center\",\n",
    "                 color=\"white\" if cm[i, j] > thresh else \"black\")\n",
    "    plt.tight_layout()\n",
    "    plt.ylabel('True label')\n",
    "    plt.xlabel('Predicted label')\n",
    "    \n",
    "    \n",
    "plt.figure(figsize=(6,6))\n",
    "plot_confusion_matrix(y_pred_lr, normalize=False)\n",
    "plt.show()"
   ]
  },
  {
   "cell_type": "markdown",
   "id": "2002b501",
   "metadata": {},
   "source": [
    "#### Q5 - Answer: Logistic Regression can predicts the  delay with  98% of accuracy."
   ]
  }
 ],
 "metadata": {
  "kernelspec": {
   "display_name": "Python 3 (ipykernel)",
   "language": "python",
   "name": "python3"
  },
  "language_info": {
   "codemirror_mode": {
    "name": "ipython",
    "version": 3
   },
   "file_extension": ".py",
   "mimetype": "text/x-python",
   "name": "python",
   "nbconvert_exporter": "python",
   "pygments_lexer": "ipython3",
   "version": "3.8.8"
  }
 },
 "nbformat": 4,
 "nbformat_minor": 5
}
